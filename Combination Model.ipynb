{
 "cells": [
  {
   "cell_type": "code",
   "execution_count": 1,
   "id": "f933ebfc",
   "metadata": {},
   "outputs": [],
   "source": [
    "import logging\n",
    "import os\n",
    "import argparse\n",
    "import math\n",
    "import numpy as np\n",
    "\n",
    "import traceback\n",
    "\n",
    "from tqdm import tqdm\n",
    "\n",
    "import pandas as pd\n",
    "\n",
    "from src.config.config import Config, load_config_from_json\n",
    "from src.evaluate.rouge_evaluator import ScoreSummary\n",
    "from src.loader.class_loader import Dataset, SOURCE, Cluster\n",
    "from src.utils.factory import create_model, create_evaluator\n",
    "from src.model.sds.combination import CombinationRanker\n",
    "from src.loader.class_loader import load_cluster"
   ]
  },
  {
   "cell_type": "code",
   "execution_count": 2,
   "id": "a2d2a371",
   "metadata": {
    "scrolled": true
   },
   "outputs": [
    {
     "name": "stdout",
     "output_type": "stream",
     "text": [
      "Total number of cluster:  200\n"
     ]
    },
    {
     "name": "stderr",
     "output_type": "stream",
     "text": [
      "200it [00:33,  5.89it/s]\n",
      "WARNING:root:[PIPELINE] - Load train set from /home/hvn/Documents/dskt/vlsp-final-year/dataset/vlsp_2022_abmusu_train_data_new.jsonl. Done.\n"
     ]
    },
    {
     "name": "stdout",
     "output_type": "stream",
     "text": [
      "Total number of cluster:  100\n"
     ]
    },
    {
     "name": "stderr",
     "output_type": "stream",
     "text": [
      "100it [00:16,  6.06it/s]\n",
      "WARNING:root:[PIPELINE] - Load valid set from /home/hvn/Documents/dskt/vlsp-final-year/dataset/vlsp_2022_abmusu_validation_data_new.jsonl. Done.\n"
     ]
    },
    {
     "name": "stdout",
     "output_type": "stream",
     "text": [
      "Total number of cluster:  300\n"
     ]
    },
    {
     "name": "stderr",
     "output_type": "stream",
     "text": [
      "300it [00:43,  6.82it/s]\n",
      "WARNING:root:[PIPELINE] - Load test set from /home/hvn/Documents/dskt/vlsp-final-year/dataset/vlsp_abmusu_test_data.jsonl. Done.\n"
     ]
    }
   ],
   "source": [
    "config = load_config_from_json()\n",
    "\n",
    "try:\n",
    "    train_set = load_cluster(\n",
    "        config.train_path,\n",
    "    )\n",
    "    logging.warning(\"[PIPELINE] - Load train set from {}. Done.\".format(config.train_path))\n",
    "except Exception as e:\n",
    "    train_set = None\n",
    "    logging.warning(\"[PIPELINE] - Load train set from {}. Failed. Using None.\".format(config.train_path))\n",
    "    print(e)\n",
    "\n",
    "try:\n",
    "    valid_set = load_cluster(\n",
    "        config.valid_path,\n",
    "    )\n",
    "    logging.warning(\"[PIPELINE] - Load valid set from {}. Done.\".format(config.valid_path))\n",
    "except Exception as e:\n",
    "    valid_set = None\n",
    "    logging.warning(\"[PIPELINE] - Load valid set from {}. Failed. Using None.\".format(config.valid_path))\n",
    "    print(e)\n",
    "\n",
    "try:\n",
    "    test_set = load_cluster(\n",
    "        \"/home/hvn/Documents/dskt/vlsp-final-year/dataset/vlsp_abmusu_test_data.jsonl\",\n",
    "    )\n",
    "    logging.warning(\"[PIPELINE] - Load test set from {}. Done.\".format(\"/home/hvn/Documents/dskt/vlsp-final-year/dataset/vlsp_abmusu_test_data.jsonl\"))\n",
    "except Exception as e:\n",
    "    test_set = None\n",
    "    logging.warning(\"[PIPELINE] - Load test set from {}. Failed. Using None.\".format(\"/home/hvn/Documents/dskt/vlsp-final-year/dataset/vlsp_abmusu_test_data.jsonl\"))\n",
    "    print(e)"
   ]
  },
  {
   "cell_type": "code",
   "execution_count": 3,
   "id": "789a3c57",
   "metadata": {},
   "outputs": [],
   "source": [
    "train_set.set_source(SOURCE.SENT_SPLITTED_TOKEN.value)\n",
    "valid_set.set_source(SOURCE.SENT_SPLITTED_TOKEN.value)\n",
    "test_set.set_source(SOURCE.SENT_SPLITTED_TOKEN.value)\n",
    "\n",
    "train_scores = []\n",
    "valid_scores = []\n",
    "test_scores = []"
   ]
  },
  {
   "cell_type": "code",
   "execution_count": 4,
   "id": "a6ea3baf",
   "metadata": {},
   "outputs": [
    {
     "name": "stderr",
     "output_type": "stream",
     "text": [
      "WARNING:root:ComnbinationRanker-init: Start create a MMR Summarizer instance\n",
      "WARNING:root:TFIDF-init: Start create a MMR Summarizer instance\n",
      "WARNING:root:TFIDF-init: Model created\n",
      "WARNING:root:MMR-init: Start create a MMR Summarizer instance\n",
      "WARNING:root:Start create SBERT embedding\n",
      "Loading codes from /home/hvn/Documents/dskt/vlsp-final-year/external/sentence_transformer/vn_sbert_deploy/bpe/bpe.codes ...\n",
      "Read 64000 codes from the codes file.\n",
      "WARNING:root:Create SBERT embedding complete\n",
      "WARNING:root:MMR-init: Model created\n",
      "WARNING:root:ComnbinationRanker-init: Model created\n"
     ]
    }
   ],
   "source": [
    "from src.model.sds.combination import CombinationRanker\n",
    "\n",
    "config = load_config_from_json()\n",
    "model_config = config.models[15]\n",
    "\n",
    "model = CombinationRanker(model_config)\n",
    "model.training(valid_set)"
   ]
  },
  {
   "cell_type": "code",
   "execution_count": 5,
   "id": "31719922",
   "metadata": {},
   "outputs": [
    {
     "name": "stdout",
     "output_type": "stream",
     "text": [
      "get local score on train set\n"
     ]
    },
    {
     "name": "stderr",
     "output_type": "stream",
     "text": [
      "100%|████████████████████████████████████████████████████████████████████████████████████████████████████████████████████████████████████████████████████████████████████████████████████████| 200/200 [00:33<00:00,  5.96it/s]\n"
     ]
    },
    {
     "name": "stdout",
     "output_type": "stream",
     "text": [
      "get local score on valid set\n"
     ]
    },
    {
     "name": "stderr",
     "output_type": "stream",
     "text": [
      "100%|████████████████████████████████████████████████████████████████████████████████████████████████████████████████████████████████████████████████████████████████████████████████████████| 100/100 [00:15<00:00,  6.35it/s]\n"
     ]
    },
    {
     "name": "stdout",
     "output_type": "stream",
     "text": [
      "get local score on test set\n"
     ]
    },
    {
     "name": "stderr",
     "output_type": "stream",
     "text": [
      "100%|████████████████████████████████████████████████████████████████████████████████████████████████████████████████████████████████████████████████████████████████████████████████████████| 300/300 [00:44<00:00,  6.76it/s]\n"
     ]
    }
   ],
   "source": [
    "weight = {\n",
    "    \"tfidf\": 0.1,\n",
    "    \"lexrank\": 0.1,\n",
    "    \"textrank\": 0.1\n",
    "}\n",
    "    \n",
    "print(\"get local score on train set\")\n",
    "for cluster in tqdm(train_set.clusters):\n",
    "    document_score = []\n",
    "\n",
    "    for doc in cluster.documents:\n",
    "        document_score.append(model.get_score(doc.get_all_sents(), 1))\n",
    "\n",
    "    train_scores.append(document_score)\n",
    "\n",
    "print(\"get local score on valid set\")\n",
    "for cluster in tqdm(valid_set.clusters):\n",
    "    document_score = []\n",
    "\n",
    "    for doc in cluster.documents:\n",
    "        document_score.append(model.get_score(doc.get_all_sents(), 1))\n",
    "\n",
    "    valid_scores.append(document_score)\n",
    "    \n",
    "print(\"get local score on test set\")\n",
    "for cluster in tqdm(test_set.clusters):\n",
    "    document_score = []\n",
    "\n",
    "    for doc in cluster.documents:\n",
    "        document_score.append(model.get_score(doc.get_all_sents(), 1))\n",
    "\n",
    "    test_scores.append(document_score)"
   ]
  },
  {
   "cell_type": "code",
   "execution_count": 6,
   "id": "40922689",
   "metadata": {},
   "outputs": [],
   "source": [
    "from src.evaluate.rouge_evaluator import RougeScore\n",
    "\n",
    "class RougeScoreStorage:\n",
    "    def __init__(self):\n",
    "        self.df = pd.DataFrame(columns=[\n",
    "            'cluster_id',\n",
    "            'rouge_1_p',\n",
    "            'rouge_1_r',\n",
    "            'rouge_1_f',\n",
    "            'rouge_2_p',\n",
    "            'rouge_2_r',\n",
    "            'rouge_2_f',\n",
    "            'rouge_l_p',\n",
    "            'rouge_l_r',\n",
    "            'rouge_l_f',\n",
    "        ])\n",
    "    \n",
    "    def add_score(self, cluster_id: int, score: RougeScore):\n",
    "        self.df = self.df.append({\n",
    "            'cluster_id': cluster_id,\n",
    "            'rouge_1_p': score.rouge1.p,\n",
    "            'rouge_1_r': score.rouge1.r,\n",
    "            'rouge_1_f': score.rouge1.f1,\n",
    "            'rouge_2_p': score.rouge2.p,\n",
    "            'rouge_2_r': score.rouge2.r,\n",
    "            'rouge_2_f': score.rouge2.f1,\n",
    "            'rouge_l_p': score.rougeL.p,\n",
    "            'rouge_l_r': score.rougeL.r,\n",
    "            'rouge_l_f': score.rougeL.f1,\n",
    "        }, ignore_index=True)\n",
    "        \n",
    "    def summary_score(self):\n",
    "        summary_df = pd.DataFrame(columns=[\n",
    "            'name',\n",
    "            'mean',\n",
    "            'min',\n",
    "            'max',\n",
    "            'std',\n",
    "        ])\n",
    "\n",
    "        metric_cols = [\n",
    "            'rouge_1_p',\n",
    "            'rouge_1_r',\n",
    "            'rouge_1_f',\n",
    "            'rouge_2_p',\n",
    "            'rouge_2_r',\n",
    "            'rouge_2_f',\n",
    "            'rouge_l_p',\n",
    "            'rouge_l_r',\n",
    "            'rouge_l_f', ]\n",
    "\n",
    "        for col in metric_cols:\n",
    "            describe = self.df[col].describe()\n",
    "            summary_df = summary_df.append({\n",
    "                'name': col,\n",
    "                'mean': describe['mean'],\n",
    "                'min': describe['min'],\n",
    "                'max': describe['max'],\n",
    "                'std': describe['std'],\n",
    "            }, ignore_index=True)\n",
    "        \n",
    "        return summary_df"
   ]
  },
  {
   "cell_type": "code",
   "execution_count": 7,
   "id": "684de60b",
   "metadata": {},
   "outputs": [],
   "source": [
    "from src.evaluate.rouge_evaluator import ScoreSummary\n",
    "from src.utils.factory import create_model, create_evaluator\n",
    "from src.model.mmr_query import MMRSummarizerQuery\n",
    "\n",
    "evaluator = create_evaluator(config.eval_config)"
   ]
  },
  {
   "cell_type": "code",
   "execution_count": 8,
   "id": "b62c798a",
   "metadata": {},
   "outputs": [],
   "source": [
    "n_sent = [11, 0.2]\n",
    "\n",
    "def get_rouge_score(weights, sigma):\n",
    "    local_config = config.models[15]\n",
    "    local_config.sigma = sigma\n",
    "    \n",
    "    mmr = MMRSummarizerQuery(local_config) \n",
    "    \n",
    "    train_storage = RougeScoreStorage()\n",
    "    valid_storage = RougeScoreStorage()\n",
    "    \n",
    "    print(\"Test on training set\")\n",
    "    \n",
    "    \"\"\"train_set.set_source(SOURCE.SENT_SPLITTED_TEXT.value)\n",
    "    for idx, cluster in tqdm(enumerate(train_set.clusters)):\n",
    "        chosen_sent = [] \n",
    "\n",
    "        sent_count = len(cluster.get_all_sents())\n",
    "        for SENT_COUNT in n_sent:\n",
    "            if 0 <= SENT_COUNT < 1:\n",
    "                sent_count = min(int(math.ceil(len(cluster.get_all_sents()) * SENT_COUNT)), sent_count)\n",
    "            else:\n",
    "                sent_count = min(int(SENT_COUNT), sent_count)\n",
    "\n",
    "\n",
    "        for idxc, doc in enumerate(cluster.documents):\n",
    "            doc.set_source(SOURCE.SENT_SPLITTED_TEXT.value)\n",
    "            sents = doc.get_all_sents()\n",
    "\n",
    "            scores = train_scores[idx][idxc]\n",
    "\n",
    "            combine_score = np.zeros((len(scores[\"tfidf\"])), dtype=float)\n",
    "\n",
    "            for key in weights.keys():\n",
    "                combine_score += scores[key] * weights[key]\n",
    "\n",
    "            if (sent_count >= len(combine_score)):\n",
    "                chosen_idx = list(range(len(combine_score)))\n",
    "            else:\n",
    "                chosen_idx = np.argpartition(combine_score, -sent_count)[-sent_count:]\n",
    "\n",
    "            for i in chosen_idx:\n",
    "                chosen_sent.append(sents[i]) \n",
    "\n",
    "        pred_sent, _ = mmr(chosen_sent, sent_count, cluster.get_all_anchor())\n",
    "\n",
    "        train_storage.add_score(\n",
    "            cluster.cluster_idx,\n",
    "            evaluator(\n",
    "                '.'.join(pred_sent),\n",
    "                '.'.join(cluster.get_summary()),\n",
    "            )\n",
    "        )\"\"\"\n",
    "    \n",
    "    print(\"Test on valid set\")\n",
    "    \n",
    "    valid_set.set_source(SOURCE.SENT_SPLITTED_TEXT.value)\n",
    "    for idx, cluster in tqdm(enumerate(valid_set.clusters)):\n",
    "        chosen_sent = [] \n",
    "        \n",
    "        sent_count = len(cluster.get_all_sents())\n",
    "        for SENT_COUNT in n_sent:\n",
    "            if 0 <= SENT_COUNT < 1:\n",
    "                sent_count = min(int(math.ceil(len(cluster.get_all_sents()) * SENT_COUNT)), sent_count)\n",
    "            else:\n",
    "                sent_count = min(int(SENT_COUNT), sent_count)\n",
    "        \n",
    "        \n",
    "        for idxc, doc in enumerate(cluster.documents):\n",
    "            doc.set_source(SOURCE.SENT_SPLITTED_TOKEN.value)\n",
    "            sents = doc.get_all_sents()\n",
    "            \n",
    "            scores = valid_scores[idx][idxc]\n",
    "            \n",
    "            combine_score = np.zeros((len(scores[\"tfidf\"])), dtype=float)\n",
    "        \n",
    "            for key in weights.keys():\n",
    "                combine_score += scores[key] * weights[key]\n",
    "            \n",
    "            if (sent_count >= len(combine_score)):\n",
    "                chosen_idx = list(range(len(combine_score)))\n",
    "            else:\n",
    "                chosen_idx = np.argpartition(combine_score, -sent_count)[-sent_count:]\n",
    "            \n",
    "            for i in chosen_idx:\n",
    "                chosen_sent.append(sents[i]) \n",
    "                \n",
    "        pred_sent, _ = mmr(chosen_sent, sent_count, cluster.get_all_anchor())\n",
    "        \n",
    "        cluster.set_source(SOURCE.SENT_SPLITTED_TOKEN.value)\n",
    "        valid_storage.add_score(\n",
    "            cluster.cluster_idx,\n",
    "            evaluator(\n",
    "                '.'.join(pred_sent),\n",
    "                '.'.join(cluster.get_summary()),\n",
    "            )\n",
    "        )\n",
    "        \n",
    "    print(\"Using weight\\n\", weights)\n",
    "    print(\"Sigma: \", sigma)\n",
    "    # print(\"Train result\\n\", train_storage.summary_score())\n",
    "    print(\"Valid result\\n\", valid_storage.summary_score())"
   ]
  },
  {
   "cell_type": "code",
   "execution_count": 17,
   "id": "b747eaf0",
   "metadata": {},
   "outputs": [],
   "source": [
    "def get_rouge_score_and_saved(weights, sigma, filename):\n",
    "    local_config = config.models[15]\n",
    "    local_config.sigma = sigma\n",
    "    \n",
    "    mmr = MMRSummarizerQuery(local_config) \n",
    "    \n",
    "    train_storage = RougeScoreStorage()\n",
    "    valid_storage = RougeScoreStorage()\n",
    "    \n",
    "    print(\"Test on training set\")\n",
    "    \n",
    "    \"\"\"train_set.set_source(SOURCE.SENT_SPLITTED_TEXT.value)\n",
    "    for idx, cluster in tqdm(enumerate(train_set.clusters)):\n",
    "        chosen_sent = [] \n",
    "\n",
    "        sent_count = len(cluster.get_all_sents())\n",
    "        for SENT_COUNT in n_sent:\n",
    "            if 0 <= SENT_COUNT < 1:\n",
    "                sent_count = min(int(math.ceil(len(cluster.get_all_sents()) * SENT_COUNT)), sent_count)\n",
    "            else:\n",
    "                sent_count = min(int(SENT_COUNT), sent_count)\n",
    "\n",
    "\n",
    "        for idxc, doc in enumerate(cluster.documents):\n",
    "            doc.set_source(SOURCE.SENT_SPLITTED_TEXT.value)\n",
    "            sents = doc.get_all_sents()\n",
    "\n",
    "            scores = train_scores[idx][idxc]\n",
    "\n",
    "            combine_score = np.zeros((len(scores[\"tfidf\"])), dtype=float)\n",
    "\n",
    "            for key in weights.keys():\n",
    "                combine_score += scores[key] * weights[key]\n",
    "\n",
    "            if (sent_count >= len(combine_score)):\n",
    "                chosen_idx = list(range(len(combine_score)))\n",
    "            else:\n",
    "                chosen_idx = np.argpartition(combine_score, -sent_count)[-sent_count:]\n",
    "\n",
    "            for i in chosen_idx:\n",
    "                chosen_sent.append(sents[i]) \n",
    "\n",
    "        pred_sent, _ = mmr(chosen_sent, sent_count, cluster.get_all_anchor())\n",
    "\n",
    "        train_storage.add_score(\n",
    "            cluster.cluster_idx,\n",
    "            evaluator(\n",
    "                '.'.join(pred_sent),\n",
    "                '.'.join(cluster.get_summary()),\n",
    "            )\n",
    "        )\"\"\"\n",
    "    \n",
    "    print(\"Test on valid set\")\n",
    "    \n",
    "    valid_set.set_source(SOURCE.SENT_SPLITTED_TEXT.value)\n",
    "    for idx, cluster in tqdm(enumerate(valid_set.clusters)):\n",
    "        chosen_sent = [] \n",
    "        \n",
    "        sent_count = len(cluster.get_all_sents())\n",
    "        for SENT_COUNT in n_sent:\n",
    "            if 0 <= SENT_COUNT < 1:\n",
    "                sent_count = min(int(math.ceil(len(cluster.get_all_sents()) * SENT_COUNT)), sent_count)\n",
    "            else:\n",
    "                sent_count = min(int(SENT_COUNT), sent_count)\n",
    "        \n",
    "        \n",
    "        for idxc, doc in enumerate(cluster.documents):\n",
    "            doc.set_source(SOURCE.SENT_SPLITTED_TOKEN.value)\n",
    "            sents = doc.get_all_sents()\n",
    "            \n",
    "            scores = valid_scores[idx][idxc]\n",
    "            \n",
    "            combine_score = np.zeros((len(scores[\"tfidf\"])), dtype=float)\n",
    "        \n",
    "            for key in weights.keys():\n",
    "                combine_score += scores[key] * weights[key]\n",
    "            \n",
    "            if (sent_count >= len(combine_score)):\n",
    "                chosen_idx = list(range(len(combine_score)))\n",
    "            else:\n",
    "                chosen_idx = np.argpartition(combine_score, -sent_count)[-sent_count:]\n",
    "            \n",
    "            for i in chosen_idx:\n",
    "                chosen_sent.append(sents[i]) \n",
    "                \n",
    "        pred_sent, _ = mmr(chosen_sent, sent_count, cluster.get_all_anchor())\n",
    "        \n",
    "        cluster.set_source(SOURCE.SENT_SPLITTED_TOKEN.value)\n",
    "        valid_storage.add_score(\n",
    "            cluster.cluster_idx,\n",
    "            evaluator(\n",
    "                '.'.join(pred_sent),\n",
    "                '.'.join(cluster.get_summary()),\n",
    "            )\n",
    "        )\n",
    "     \n",
    "    print(\"Predict on test set\")\n",
    "    \n",
    "    test_set.set_source(SOURCE.SENT_SPLITTED_TEXT.value)\n",
    "    predictions = []\n",
    "    \n",
    "    for idx, cluster in tqdm(enumerate(test_set.clusters)):\n",
    "        chosen_sent = [] \n",
    "        \n",
    "        sent_count = len(cluster.get_all_sents())\n",
    "        for SENT_COUNT in n_sent:\n",
    "            if 0 <= SENT_COUNT < 1:\n",
    "                sent_count = min(int(math.ceil(len(cluster.get_all_sents()) * SENT_COUNT)), sent_count)\n",
    "            else:\n",
    "                sent_count = min(int(SENT_COUNT), sent_count)\n",
    "        \n",
    "        \n",
    "        for idxc, doc in enumerate(cluster.documents):\n",
    "            doc.set_source(SOURCE.SENT_SPLITTED_TEXT.value)\n",
    "            sents = doc.get_all_sents()\n",
    "            \n",
    "            scores = test_scores[idx][idxc]\n",
    "            \n",
    "            combine_score = np.zeros((len(scores[\"tfidf\"])), dtype=float)\n",
    "        \n",
    "            for key in weights.keys():\n",
    "                combine_score += scores[key] * weights[key]\n",
    "            \n",
    "            if (sent_count >= len(combine_score)):\n",
    "                chosen_idx = list(range(len(combine_score)))\n",
    "            else:\n",
    "                chosen_idx = np.argpartition(combine_score, -sent_count)[-sent_count:]\n",
    "            \n",
    "            for i in chosen_idx:\n",
    "                chosen_sent.append(sents[i]) \n",
    "                   \n",
    "        pred_sent, _ = mmr(chosen_sent, sent_count, cluster.get_all_anchor())\n",
    "        predictions.append(' '.join(pred_sent))\n",
    "        \n",
    "    print(\"Start write to txt\")\n",
    "    with open(os.path.join(\"/home/hvn/Documents/dskt/vlsp-final-year/data/result/outer/combination\", \"results\" + filename + \".txt\"), \"w\") as f:\n",
    "        for summary in predictions:\n",
    "            summary.replace('_', ' ')\n",
    "            f.write(summary)\n",
    "            f.write('\\n')\n",
    "    print(\"Done write to txt\")\n",
    "                \n",
    "    print(\"Using weight\\n\", weights)\n",
    "    print(\"Sigma: \", sigma)\n",
    "    #print(\"Train result\\n\", train_storage.summary_score())\n",
    "    print(\"Valid result\\n\", valid_storage.summary_score())"
   ]
  },
  {
   "cell_type": "code",
   "execution_count": 10,
   "id": "f2c109cd",
   "metadata": {
    "scrolled": true
   },
   "outputs": [
    {
     "name": "stderr",
     "output_type": "stream",
     "text": [
      "WARNING:root:MMR-init: Start create a MMR Summarizer instance\n",
      "WARNING:root:Start create SBERT embedding\n",
      "Loading codes from /home/hvn/Documents/dskt/vlsp-final-year/external/sentence_transformer/vn_sbert_deploy/bpe/bpe.codes ...\n",
      "Read 64000 codes from the codes file.\n",
      "WARNING:root:Create SBERT embedding complete\n",
      "WARNING:root:MMR-init: Model created\n"
     ]
    },
    {
     "name": "stdout",
     "output_type": "stream",
     "text": [
      "Test on training set\n",
      "Test on valid set\n"
     ]
    },
    {
     "name": "stderr",
     "output_type": "stream",
     "text": [
      "100it [00:36,  2.76it/s]\n",
      "WARNING:root:MMR-init: Start create a MMR Summarizer instance\n",
      "WARNING:root:Start create SBERT embedding\n"
     ]
    },
    {
     "name": "stdout",
     "output_type": "stream",
     "text": [
      "Using weight\n",
      " {'tfidf': 0.0, 'lexrank': 0.0, 'textrank': 1.0}\n",
      "Sigma:  0.0\n",
      "Valid result\n",
      "         name      mean       min       max       std\n",
      "0  rouge_1_p  0.360405  0.107784  0.824324  0.133059\n",
      "1  rouge_1_r  0.521403  0.223404  0.865854  0.131028\n",
      "2  rouge_1_f  0.413784  0.156716  0.734940  0.111168\n",
      "3  rouge_2_p  0.178915  0.004367  0.736264  0.135124\n",
      "4  rouge_2_r  0.267028  0.008475  0.761468  0.162344\n",
      "5  rouge_2_f  0.205260  0.005764  0.653659  0.133654\n",
      "6  rouge_l_p  0.334677  0.101796  0.824324  0.133831\n",
      "7  rouge_l_r  0.483207  0.191489  0.865854  0.135778\n",
      "8  rouge_l_f  0.383806  0.134328  0.734940  0.115521\n"
     ]
    },
    {
     "name": "stderr",
     "output_type": "stream",
     "text": [
      "Loading codes from /home/hvn/Documents/dskt/vlsp-final-year/external/sentence_transformer/vn_sbert_deploy/bpe/bpe.codes ...\n",
      "Read 64000 codes from the codes file.\n",
      "WARNING:root:Create SBERT embedding complete\n",
      "WARNING:root:MMR-init: Model created\n"
     ]
    },
    {
     "name": "stdout",
     "output_type": "stream",
     "text": [
      "Test on training set\n",
      "Test on valid set\n"
     ]
    },
    {
     "name": "stderr",
     "output_type": "stream",
     "text": [
      "100it [00:35,  2.85it/s]\n",
      "WARNING:root:MMR-init: Start create a MMR Summarizer instance\n",
      "WARNING:root:Start create SBERT embedding\n"
     ]
    },
    {
     "name": "stdout",
     "output_type": "stream",
     "text": [
      "Using weight\n",
      " {'tfidf': 0.0, 'lexrank': 0.3, 'textrank': 0.7}\n",
      "Sigma:  0.0\n",
      "Valid result\n",
      "         name      mean       min       max       std\n",
      "0  rouge_1_p  0.365110  0.128655  0.720588  0.124883\n",
      "1  rouge_1_r  0.527365  0.234043  0.865854  0.129840\n",
      "2  rouge_1_f  0.420606  0.166038  0.690141  0.106973\n",
      "3  rouge_2_p  0.182847  0.012397  0.626506  0.129635\n",
      "4  rouge_2_r  0.276015  0.023392  0.761468  0.164953\n",
      "5  rouge_2_f  0.211789  0.016667  0.574586  0.132166\n",
      "6  rouge_l_p  0.338921  0.105263  0.691176  0.124297\n",
      "7  rouge_l_r  0.489573  0.191489  0.865854  0.136240\n",
      "8  rouge_l_f  0.390468  0.135849  0.661972  0.111567\n"
     ]
    },
    {
     "name": "stderr",
     "output_type": "stream",
     "text": [
      "Loading codes from /home/hvn/Documents/dskt/vlsp-final-year/external/sentence_transformer/vn_sbert_deploy/bpe/bpe.codes ...\n",
      "Read 64000 codes from the codes file.\n",
      "WARNING:root:Create SBERT embedding complete\n",
      "WARNING:root:MMR-init: Model created\n"
     ]
    },
    {
     "name": "stdout",
     "output_type": "stream",
     "text": [
      "Test on training set\n",
      "Test on valid set\n"
     ]
    },
    {
     "name": "stderr",
     "output_type": "stream",
     "text": [
      "100it [00:35,  2.86it/s]\n",
      "WARNING:root:MMR-init: Start create a MMR Summarizer instance\n",
      "WARNING:root:Start create SBERT embedding\n"
     ]
    },
    {
     "name": "stdout",
     "output_type": "stream",
     "text": [
      "Using weight\n",
      " {'tfidf': 0.0, 'lexrank': 0.7, 'textrank': 0.30000000000000004}\n",
      "Sigma:  0.0\n",
      "Valid result\n",
      "         name      mean       min       max       std\n",
      "0  rouge_1_p  0.368946  0.120805  0.720588  0.122628\n",
      "1  rouge_1_r  0.529061  0.326733  1.000000  0.133797\n",
      "2  rouge_1_f  0.422793  0.177340  0.690141  0.103820\n",
      "3  rouge_2_p  0.186953  0.004950  0.626506  0.131153\n",
      "4  rouge_2_r  0.276265  0.017544  0.963303  0.167796\n",
      "5  rouge_2_f  0.214189  0.007722  0.578512  0.133428\n",
      "6  rouge_l_p  0.342287  0.120805  0.691176  0.122915\n",
      "7  rouge_l_r  0.490428  0.272727  1.000000  0.138285\n",
      "8  rouge_l_f  0.392085  0.177340  0.661972  0.109012\n"
     ]
    },
    {
     "name": "stderr",
     "output_type": "stream",
     "text": [
      "Loading codes from /home/hvn/Documents/dskt/vlsp-final-year/external/sentence_transformer/vn_sbert_deploy/bpe/bpe.codes ...\n",
      "Read 64000 codes from the codes file.\n",
      "WARNING:root:Create SBERT embedding complete\n",
      "WARNING:root:MMR-init: Model created\n"
     ]
    },
    {
     "name": "stdout",
     "output_type": "stream",
     "text": [
      "Test on training set\n",
      "Test on valid set\n"
     ]
    },
    {
     "name": "stderr",
     "output_type": "stream",
     "text": [
      "100it [00:34,  2.90it/s]\n",
      "WARNING:root:MMR-init: Start create a MMR Summarizer instance\n",
      "WARNING:root:Start create SBERT embedding\n"
     ]
    },
    {
     "name": "stdout",
     "output_type": "stream",
     "text": [
      "Using weight\n",
      " {'tfidf': 0.0, 'lexrank': 1.0, 'textrank': 0.0}\n",
      "Sigma:  0.0\n",
      "Valid result\n",
      "         name      mean       min       max       std\n",
      "0  rouge_1_p  0.369826  0.130769  0.691589  0.114037\n",
      "1  rouge_1_r  0.512601  0.244681  0.841463  0.117542\n",
      "2  rouge_1_f  0.419162  0.174242  0.689076  0.095453\n",
      "3  rouge_2_p  0.180028  0.006024  0.537879  0.129788\n",
      "4  rouge_2_r  0.249269  0.017544  0.724771  0.147961\n",
      "5  rouge_2_f  0.201831  0.008969  0.553055  0.129386\n",
      "6  rouge_l_p  0.342394  0.129412  0.672897  0.113990\n",
      "7  rouge_l_r  0.473431  0.234043  0.817073  0.118848\n",
      "8  rouge_l_f  0.387678  0.166667  0.660550  0.099034\n"
     ]
    },
    {
     "name": "stderr",
     "output_type": "stream",
     "text": [
      "Loading codes from /home/hvn/Documents/dskt/vlsp-final-year/external/sentence_transformer/vn_sbert_deploy/bpe/bpe.codes ...\n",
      "Read 64000 codes from the codes file.\n",
      "WARNING:root:Create SBERT embedding complete\n",
      "WARNING:root:MMR-init: Model created\n"
     ]
    },
    {
     "name": "stdout",
     "output_type": "stream",
     "text": [
      "Test on training set\n",
      "Test on valid set\n"
     ]
    },
    {
     "name": "stderr",
     "output_type": "stream",
     "text": [
      "100it [00:34,  2.91it/s]\n",
      "WARNING:root:MMR-init: Start create a MMR Summarizer instance\n",
      "WARNING:root:Start create SBERT embedding\n"
     ]
    },
    {
     "name": "stdout",
     "output_type": "stream",
     "text": [
      "Using weight\n",
      " {'tfidf': 0.3, 'lexrank': 0.0, 'textrank': 0.7}\n",
      "Sigma:  0.0\n",
      "Valid result\n",
      "         name      mean       min       max       std\n",
      "0  rouge_1_p  0.368545  0.139535  0.730769  0.128751\n",
      "1  rouge_1_r  0.494061  0.238938  0.811966  0.124859\n",
      "2  rouge_1_f  0.411907  0.196721  0.769231  0.109895\n",
      "3  rouge_2_p  0.177110  0.012346  0.651685  0.147071\n",
      "4  rouge_2_r  0.239683  0.035088  0.758170  0.163668\n",
      "5  rouge_2_f  0.196606  0.018265  0.700906  0.146531\n",
      "6  rouge_l_p  0.342330  0.124031  0.715385  0.133593\n",
      "7  rouge_l_r  0.456158  0.221239  0.794872  0.128127\n",
      "8  rouge_l_f  0.381612  0.174863  0.753036  0.117438\n"
     ]
    },
    {
     "name": "stderr",
     "output_type": "stream",
     "text": [
      "Loading codes from /home/hvn/Documents/dskt/vlsp-final-year/external/sentence_transformer/vn_sbert_deploy/bpe/bpe.codes ...\n",
      "Read 64000 codes from the codes file.\n",
      "WARNING:root:Create SBERT embedding complete\n",
      "WARNING:root:MMR-init: Model created\n"
     ]
    },
    {
     "name": "stdout",
     "output_type": "stream",
     "text": [
      "Test on training set\n",
      "Test on valid set\n"
     ]
    },
    {
     "name": "stderr",
     "output_type": "stream",
     "text": [
      "100it [00:33,  2.96it/s]\n",
      "WARNING:root:MMR-init: Start create a MMR Summarizer instance\n",
      "WARNING:root:Start create SBERT embedding\n"
     ]
    },
    {
     "name": "stdout",
     "output_type": "stream",
     "text": [
      "Using weight\n",
      " {'tfidf': 0.3, 'lexrank': 0.3, 'textrank': 0.39999999999999997}\n",
      "Sigma:  0.0\n",
      "Valid result\n",
      "         name      mean       min       max       std\n",
      "0  rouge_1_p  0.367632  0.167665  0.921569  0.130113\n",
      "1  rouge_1_r  0.482787  0.258333  0.800000  0.126597\n",
      "2  rouge_1_f  0.406952  0.214559  0.752000  0.107308\n",
      "3  rouge_2_p  0.172764  0.010526  0.836066  0.141293\n",
      "4  rouge_2_r  0.232153  0.015038  0.710000  0.157252\n",
      "5  rouge_2_f  0.190806  0.012384  0.641509  0.135802\n",
      "6  rouge_l_p  0.340287  0.143713  0.882353  0.132932\n",
      "7  rouge_l_r  0.445730  0.208333  0.781818  0.132079\n",
      "8  rouge_l_f  0.376211  0.183908  0.720000  0.114289\n"
     ]
    },
    {
     "name": "stderr",
     "output_type": "stream",
     "text": [
      "Loading codes from /home/hvn/Documents/dskt/vlsp-final-year/external/sentence_transformer/vn_sbert_deploy/bpe/bpe.codes ...\n",
      "Read 64000 codes from the codes file.\n",
      "WARNING:root:Create SBERT embedding complete\n",
      "WARNING:root:MMR-init: Model created\n"
     ]
    },
    {
     "name": "stdout",
     "output_type": "stream",
     "text": [
      "Test on training set\n",
      "Test on valid set\n"
     ]
    },
    {
     "name": "stderr",
     "output_type": "stream",
     "text": [
      "100it [00:30,  3.23it/s]\n",
      "WARNING:root:MMR-init: Start create a MMR Summarizer instance\n",
      "WARNING:root:Start create SBERT embedding\n"
     ]
    },
    {
     "name": "stdout",
     "output_type": "stream",
     "text": [
      "Using weight\n",
      " {'tfidf': 0.3, 'lexrank': 0.7, 'textrank': 0.0}\n",
      "Sigma:  0.0\n",
      "Valid result\n",
      "         name      mean       min       max       std\n",
      "0  rouge_1_p  0.370004  0.150794  0.921569  0.124889\n",
      "1  rouge_1_r  0.459047  0.244444  0.887324  0.123946\n",
      "2  rouge_1_f  0.400345  0.211111  0.752000  0.104309\n",
      "3  rouge_2_p  0.164845  0.015075  0.836066  0.139282\n",
      "4  rouge_2_r  0.202687  0.022556  0.840000  0.148134\n",
      "5  rouge_2_f  0.175642  0.018072  0.666667  0.133126\n",
      "6  rouge_l_p  0.340317  0.142857  0.882353  0.124187\n",
      "7  rouge_l_r  0.422103  0.208333  0.887324  0.125403\n",
      "8  rouge_l_f  0.368162  0.200000  0.720000  0.107365\n"
     ]
    },
    {
     "name": "stderr",
     "output_type": "stream",
     "text": [
      "Loading codes from /home/hvn/Documents/dskt/vlsp-final-year/external/sentence_transformer/vn_sbert_deploy/bpe/bpe.codes ...\n",
      "Read 64000 codes from the codes file.\n",
      "WARNING:root:Create SBERT embedding complete\n",
      "WARNING:root:MMR-init: Model created\n"
     ]
    },
    {
     "name": "stdout",
     "output_type": "stream",
     "text": [
      "Test on training set\n",
      "Test on valid set\n"
     ]
    },
    {
     "name": "stderr",
     "output_type": "stream",
     "text": [
      "100it [00:28,  3.54it/s]\n",
      "WARNING:root:MMR-init: Start create a MMR Summarizer instance\n",
      "WARNING:root:Start create SBERT embedding\n"
     ]
    },
    {
     "name": "stdout",
     "output_type": "stream",
     "text": [
      "Using weight\n",
      " {'tfidf': 0.7, 'lexrank': 0.0, 'textrank': 0.30000000000000004}\n",
      "Sigma:  0.0\n",
      "Valid result\n",
      "         name      mean       min       max       std\n",
      "0  rouge_1_p  0.363561  0.195652  0.921569  0.112175\n",
      "1  rouge_1_r  0.399204  0.207143  0.887324  0.113033\n",
      "2  rouge_1_f  0.372127  0.217228  0.752000  0.092038\n",
      "3  rouge_2_p  0.145909  0.012658  0.836066  0.121400\n",
      "4  rouge_2_r  0.156032  0.011905  0.840000  0.123660\n",
      "5  rouge_2_f  0.145874  0.012579  0.677419  0.112371\n",
      "6  rouge_l_p  0.335589  0.165354  0.882353  0.109779\n",
      "7  rouge_l_r  0.368587  0.178571  0.887324  0.112209\n",
      "8  rouge_l_f  0.343568  0.187266  0.732558  0.093149\n"
     ]
    },
    {
     "name": "stderr",
     "output_type": "stream",
     "text": [
      "Loading codes from /home/hvn/Documents/dskt/vlsp-final-year/external/sentence_transformer/vn_sbert_deploy/bpe/bpe.codes ...\n",
      "Read 64000 codes from the codes file.\n",
      "WARNING:root:Create SBERT embedding complete\n",
      "WARNING:root:MMR-init: Model created\n"
     ]
    },
    {
     "name": "stdout",
     "output_type": "stream",
     "text": [
      "Test on training set\n",
      "Test on valid set\n"
     ]
    },
    {
     "name": "stderr",
     "output_type": "stream",
     "text": [
      "100it [00:28,  3.54it/s]\n",
      "WARNING:root:MMR-init: Start create a MMR Summarizer instance\n",
      "WARNING:root:Start create SBERT embedding\n"
     ]
    },
    {
     "name": "stdout",
     "output_type": "stream",
     "text": [
      "Using weight\n",
      " {'tfidf': 0.7, 'lexrank': 0.3, 'textrank': 5.551115123125783e-17}\n",
      "Sigma:  0.0\n",
      "Valid result\n",
      "         name      mean       min       max       std\n",
      "0  rouge_1_p  0.366345  0.086022  0.921569  0.121170\n",
      "1  rouge_1_r  0.393814  0.148148  0.887324  0.109515\n",
      "2  rouge_1_f  0.371772  0.108844  0.752000  0.097320\n",
      "3  rouge_2_p  0.146005  0.000000  0.836066  0.128399\n",
      "4  rouge_2_r  0.150195  0.000000  0.840000  0.121920\n",
      "5  rouge_2_f  0.143549  0.000000  0.666667  0.115114\n",
      "6  rouge_l_p  0.334091  0.086022  0.882353  0.119415\n",
      "7  rouge_l_r  0.358433  0.148148  0.887324  0.108589\n",
      "8  rouge_l_f  0.338658  0.108844  0.720000  0.097945\n"
     ]
    },
    {
     "name": "stderr",
     "output_type": "stream",
     "text": [
      "Loading codes from /home/hvn/Documents/dskt/vlsp-final-year/external/sentence_transformer/vn_sbert_deploy/bpe/bpe.codes ...\n",
      "Read 64000 codes from the codes file.\n",
      "WARNING:root:Create SBERT embedding complete\n",
      "WARNING:root:MMR-init: Model created\n"
     ]
    },
    {
     "name": "stdout",
     "output_type": "stream",
     "text": [
      "Test on training set\n",
      "Test on valid set\n"
     ]
    },
    {
     "name": "stderr",
     "output_type": "stream",
     "text": [
      "100it [00:28,  3.49it/s]\n",
      "WARNING:root:MMR-init: Start create a MMR Summarizer instance\n",
      "WARNING:root:Start create SBERT embedding\n"
     ]
    },
    {
     "name": "stdout",
     "output_type": "stream",
     "text": [
      "Using weight\n",
      " {'tfidf': 1.0, 'lexrank': 0.0, 'textrank': 0.0}\n",
      "Sigma:  0.0\n",
      "Valid result\n",
      "         name      mean       min       max       std\n",
      "0  rouge_1_p  0.364704  0.175000  0.921569  0.121974\n",
      "1  rouge_1_r  0.395959  0.185714  0.887324  0.117834\n",
      "2  rouge_1_f  0.371209  0.187793  0.752000  0.101772\n",
      "3  rouge_2_p  0.151430  0.013423  0.836066  0.136172\n",
      "4  rouge_2_r  0.156261  0.011905  0.840000  0.133594\n",
      "5  rouge_2_f  0.148912  0.013029  0.666667  0.125558\n",
      "6  rouge_l_p  0.336862  0.150000  0.882353  0.122280\n",
      "7  rouge_l_r  0.365113  0.164286  0.887324  0.117950\n",
      "8  rouge_l_f  0.342550  0.176245  0.720000  0.104107\n"
     ]
    },
    {
     "name": "stderr",
     "output_type": "stream",
     "text": [
      "Loading codes from /home/hvn/Documents/dskt/vlsp-final-year/external/sentence_transformer/vn_sbert_deploy/bpe/bpe.codes ...\n",
      "Read 64000 codes from the codes file.\n",
      "WARNING:root:Create SBERT embedding complete\n",
      "WARNING:root:MMR-init: Model created\n"
     ]
    },
    {
     "name": "stdout",
     "output_type": "stream",
     "text": [
      "Test on training set\n",
      "Test on valid set\n"
     ]
    },
    {
     "name": "stderr",
     "output_type": "stream",
     "text": [
      "100it [00:36,  2.72it/s]\n",
      "WARNING:root:MMR-init: Start create a MMR Summarizer instance\n",
      "WARNING:root:Start create SBERT embedding\n"
     ]
    },
    {
     "name": "stdout",
     "output_type": "stream",
     "text": [
      "Using weight\n",
      " {'tfidf': 0.0, 'lexrank': 0.0, 'textrank': 1.0}\n",
      "Sigma:  0.2\n",
      "Valid result\n",
      "         name      mean       min       max       std\n",
      "0  rouge_1_p  0.362528  0.121951  0.952381  0.130247\n",
      "1  rouge_1_r  0.536634  0.287129  0.883495  0.128231\n",
      "2  rouge_1_f  0.421854  0.183486  0.875912  0.110414\n",
      "3  rouge_2_p  0.182004  0.009009  0.905882  0.139253\n",
      "4  rouge_2_r  0.282215  0.035088  0.785714  0.166269\n",
      "5  rouge_2_f  0.213667  0.014337  0.841530  0.138509\n",
      "6  rouge_l_p  0.337402  0.109756  0.952381  0.132469\n",
      "7  rouge_l_r  0.498554  0.277228  0.883495  0.135905\n",
      "8  rouge_l_f  0.392319  0.165138  0.875912  0.116828\n"
     ]
    },
    {
     "name": "stderr",
     "output_type": "stream",
     "text": [
      "Loading codes from /home/hvn/Documents/dskt/vlsp-final-year/external/sentence_transformer/vn_sbert_deploy/bpe/bpe.codes ...\n",
      "Read 64000 codes from the codes file.\n",
      "WARNING:root:Create SBERT embedding complete\n",
      "WARNING:root:MMR-init: Model created\n"
     ]
    },
    {
     "name": "stdout",
     "output_type": "stream",
     "text": [
      "Test on training set\n",
      "Test on valid set\n"
     ]
    },
    {
     "name": "stderr",
     "output_type": "stream",
     "text": [
      "100it [00:36,  2.74it/s]\n",
      "WARNING:root:MMR-init: Start create a MMR Summarizer instance\n",
      "WARNING:root:Start create SBERT embedding\n"
     ]
    },
    {
     "name": "stdout",
     "output_type": "stream",
     "text": [
      "Using weight\n",
      " {'tfidf': 0.0, 'lexrank': 0.3, 'textrank': 0.7}\n",
      "Sigma:  0.2\n",
      "Valid result\n",
      "         name      mean       min       max       std\n",
      "0  rouge_1_p  0.367150  0.148649  0.952381  0.133626\n",
      "1  rouge_1_r  0.539703  0.287129  0.883495  0.132306\n",
      "2  rouge_1_f  0.426092  0.212454  0.875912  0.114787\n",
      "3  rouge_2_p  0.183649  0.010417  0.905882  0.147135\n",
      "4  rouge_2_r  0.282251  0.035088  0.785714  0.178421\n",
      "5  rouge_2_f  0.214754  0.016064  0.841530  0.148088\n",
      "6  rouge_l_p  0.340901  0.126531  0.952381  0.137225\n",
      "7  rouge_l_r  0.499964  0.276596  0.883495  0.142391\n",
      "8  rouge_l_f  0.395295  0.186747  0.875912  0.123328\n"
     ]
    },
    {
     "name": "stderr",
     "output_type": "stream",
     "text": [
      "Loading codes from /home/hvn/Documents/dskt/vlsp-final-year/external/sentence_transformer/vn_sbert_deploy/bpe/bpe.codes ...\n",
      "Read 64000 codes from the codes file.\n",
      "WARNING:root:Create SBERT embedding complete\n",
      "WARNING:root:MMR-init: Model created\n"
     ]
    },
    {
     "name": "stdout",
     "output_type": "stream",
     "text": [
      "Test on training set\n",
      "Test on valid set\n"
     ]
    },
    {
     "name": "stderr",
     "output_type": "stream",
     "text": [
      "100it [00:36,  2.77it/s]\n",
      "WARNING:root:MMR-init: Start create a MMR Summarizer instance\n",
      "WARNING:root:Start create SBERT embedding\n"
     ]
    },
    {
     "name": "stdout",
     "output_type": "stream",
     "text": [
      "Using weight\n",
      " {'tfidf': 0.0, 'lexrank': 0.7, 'textrank': 0.30000000000000004}\n",
      "Sigma:  0.2\n",
      "Valid result\n",
      "         name      mean       min       max       std\n",
      "0  rouge_1_p  0.374258  0.138889  0.952381  0.133988\n",
      "1  rouge_1_r  0.546993  0.319149  1.000000  0.138968\n",
      "2  rouge_1_f  0.433178  0.202020  0.875912  0.116990\n",
      "3  rouge_2_p  0.190925  0.005155  0.905882  0.149331\n",
      "4  rouge_2_r  0.289451  0.017544  0.954128  0.183377\n",
      "5  rouge_2_f  0.222214  0.007968  0.841530  0.152176\n",
      "6  rouge_l_p  0.347669  0.131944  0.952381  0.138714\n",
      "7  rouge_l_r  0.506118  0.280000  1.000000  0.147840\n",
      "8  rouge_l_f  0.401756  0.190871  0.875912  0.126209\n"
     ]
    },
    {
     "name": "stderr",
     "output_type": "stream",
     "text": [
      "Loading codes from /home/hvn/Documents/dskt/vlsp-final-year/external/sentence_transformer/vn_sbert_deploy/bpe/bpe.codes ...\n",
      "Read 64000 codes from the codes file.\n",
      "WARNING:root:Create SBERT embedding complete\n",
      "WARNING:root:MMR-init: Model created\n"
     ]
    },
    {
     "name": "stdout",
     "output_type": "stream",
     "text": [
      "Test on training set\n",
      "Test on valid set\n"
     ]
    },
    {
     "name": "stderr",
     "output_type": "stream",
     "text": [
      "100it [00:34,  2.92it/s]\n",
      "WARNING:root:MMR-init: Start create a MMR Summarizer instance\n",
      "WARNING:root:Start create SBERT embedding\n"
     ]
    },
    {
     "name": "stdout",
     "output_type": "stream",
     "text": [
      "Using weight\n",
      " {'tfidf': 0.0, 'lexrank': 1.0, 'textrank': 0.0}\n",
      "Sigma:  0.2\n",
      "Valid result\n",
      "         name      mean       min       max       std\n",
      "0  rouge_1_p  0.377146  0.127820  0.745902  0.122787\n",
      "1  rouge_1_r  0.528996  0.234043  0.987805  0.128170\n",
      "2  rouge_1_f  0.430171  0.171206  0.781116  0.106893\n",
      "3  rouge_2_p  0.194023  0.005587  0.668966  0.143626\n",
      "4  rouge_2_r  0.274402  0.016949  0.917431  0.167536\n",
      "5  rouge_2_f  0.220021  0.008475  0.692857  0.143956\n",
      "6  rouge_l_p  0.351977  0.116564  0.745902  0.126755\n",
      "7  rouge_l_r  0.491802  0.202128  0.987805  0.133810\n",
      "8  rouge_l_f  0.400849  0.147860  0.781116  0.114487\n"
     ]
    },
    {
     "name": "stderr",
     "output_type": "stream",
     "text": [
      "Loading codes from /home/hvn/Documents/dskt/vlsp-final-year/external/sentence_transformer/vn_sbert_deploy/bpe/bpe.codes ...\n",
      "Read 64000 codes from the codes file.\n",
      "WARNING:root:Create SBERT embedding complete\n",
      "WARNING:root:MMR-init: Model created\n"
     ]
    },
    {
     "name": "stdout",
     "output_type": "stream",
     "text": [
      "Test on training set\n",
      "Test on valid set\n"
     ]
    },
    {
     "name": "stderr",
     "output_type": "stream",
     "text": [
      "100it [00:34,  2.86it/s]\n",
      "WARNING:root:MMR-init: Start create a MMR Summarizer instance\n",
      "WARNING:root:Start create SBERT embedding\n"
     ]
    },
    {
     "name": "stdout",
     "output_type": "stream",
     "text": [
      "Using weight\n",
      " {'tfidf': 0.3, 'lexrank': 0.0, 'textrank': 0.7}\n",
      "Sigma:  0.2\n",
      "Valid result\n",
      "         name      mean       min       max       std\n",
      "0  rouge_1_p  0.372905  0.160000  0.824324  0.132836\n",
      "1  rouge_1_r  0.508498  0.274336  0.810811  0.117644\n",
      "2  rouge_1_f  0.420927  0.223464  0.816327  0.112781\n",
      "3  rouge_2_p  0.184938  0.013158  0.795918  0.148677\n",
      "4  rouge_2_r  0.256568  0.035088  0.795918  0.157578\n",
      "5  rouge_2_f  0.208679  0.019139  0.795918  0.146447\n",
      "6  rouge_l_p  0.347294  0.143519  0.824324  0.137462\n",
      "7  rouge_l_r  0.471714  0.230088  0.810811  0.124845\n",
      "8  rouge_l_f  0.391363  0.187311  0.816327  0.120634\n"
     ]
    },
    {
     "name": "stderr",
     "output_type": "stream",
     "text": [
      "Loading codes from /home/hvn/Documents/dskt/vlsp-final-year/external/sentence_transformer/vn_sbert_deploy/bpe/bpe.codes ...\n",
      "Read 64000 codes from the codes file.\n",
      "WARNING:root:Create SBERT embedding complete\n",
      "WARNING:root:MMR-init: Model created\n"
     ]
    },
    {
     "name": "stdout",
     "output_type": "stream",
     "text": [
      "Test on training set\n",
      "Test on valid set\n"
     ]
    },
    {
     "name": "stderr",
     "output_type": "stream",
     "text": [
      "100it [00:34,  2.87it/s]\n",
      "WARNING:root:MMR-init: Start create a MMR Summarizer instance\n",
      "WARNING:root:Start create SBERT embedding\n"
     ]
    },
    {
     "name": "stdout",
     "output_type": "stream",
     "text": [
      "Using weight\n",
      " {'tfidf': 0.3, 'lexrank': 0.3, 'textrank': 0.39999999999999997}\n",
      "Sigma:  0.2\n",
      "Valid result\n",
      "         name      mean       min       max       std\n",
      "0  rouge_1_p  0.378677  0.161491  0.921569  0.137584\n",
      "1  rouge_1_r  0.495139  0.276596  0.829268  0.118970\n",
      "2  rouge_1_f  0.417944  0.203922  0.752000  0.106970\n",
      "3  rouge_2_p  0.185773  0.017964  0.836066  0.149498\n",
      "4  rouge_2_r  0.244308  0.039474  0.678899  0.146336\n",
      "5  rouge_2_f  0.203172  0.025263  0.663415  0.134538\n",
      "6  rouge_l_p  0.352060  0.148649  0.882353  0.139244\n",
      "7  rouge_l_r  0.458455  0.255319  0.817073  0.122189\n",
      "8  rouge_l_f  0.387760  0.188235  0.734940  0.111542\n"
     ]
    },
    {
     "name": "stderr",
     "output_type": "stream",
     "text": [
      "Loading codes from /home/hvn/Documents/dskt/vlsp-final-year/external/sentence_transformer/vn_sbert_deploy/bpe/bpe.codes ...\n",
      "Read 64000 codes from the codes file.\n",
      "WARNING:root:Create SBERT embedding complete\n",
      "WARNING:root:MMR-init: Model created\n"
     ]
    },
    {
     "name": "stdout",
     "output_type": "stream",
     "text": [
      "Test on training set\n",
      "Test on valid set\n"
     ]
    },
    {
     "name": "stderr",
     "output_type": "stream",
     "text": [
      "100it [00:30,  3.24it/s]\n",
      "WARNING:root:MMR-init: Start create a MMR Summarizer instance\n",
      "WARNING:root:Start create SBERT embedding\n"
     ]
    },
    {
     "name": "stdout",
     "output_type": "stream",
     "text": [
      "Using weight\n",
      " {'tfidf': 0.3, 'lexrank': 0.7, 'textrank': 0.0}\n",
      "Sigma:  0.2\n",
      "Valid result\n",
      "         name      mean       min       max       std\n",
      "0  rouge_1_p  0.379706  0.198675  0.921569  0.122206\n",
      "1  rouge_1_r  0.474033  0.260870  0.850000  0.120287\n",
      "2  rouge_1_f  0.412285  0.248889  0.752000  0.101346\n",
      "3  rouge_2_p  0.175892  0.009950  0.836066  0.134315\n",
      "4  rouge_2_r  0.218745  0.018018  0.624000  0.143699\n",
      "5  rouge_2_f  0.188581  0.012821  0.641509  0.127590\n",
      "6  rouge_l_p  0.350168  0.159420  0.882353  0.122597\n",
      "7  rouge_l_r  0.436806  0.250000  0.800000  0.124324\n",
      "8  rouge_l_f  0.380007  0.195556  0.720000  0.105779\n"
     ]
    },
    {
     "name": "stderr",
     "output_type": "stream",
     "text": [
      "Loading codes from /home/hvn/Documents/dskt/vlsp-final-year/external/sentence_transformer/vn_sbert_deploy/bpe/bpe.codes ...\n",
      "Read 64000 codes from the codes file.\n",
      "WARNING:root:Create SBERT embedding complete\n",
      "WARNING:root:MMR-init: Model created\n"
     ]
    },
    {
     "name": "stdout",
     "output_type": "stream",
     "text": [
      "Test on training set\n",
      "Test on valid set\n"
     ]
    },
    {
     "name": "stderr",
     "output_type": "stream",
     "text": [
      "100it [00:28,  3.45it/s]\n",
      "WARNING:root:MMR-init: Start create a MMR Summarizer instance\n",
      "WARNING:root:Start create SBERT embedding\n"
     ]
    },
    {
     "name": "stdout",
     "output_type": "stream",
     "text": [
      "Using weight\n",
      " {'tfidf': 0.7, 'lexrank': 0.0, 'textrank': 0.30000000000000004}\n",
      "Sigma:  0.2\n",
      "Valid result\n",
      "         name      mean       min       max       std\n",
      "0  rouge_1_p  0.363161  0.113402  0.921569  0.119708\n",
      "1  rouge_1_r  0.408238  0.203704  0.780488  0.117337\n",
      "2  rouge_1_f  0.375979  0.145695  0.762791  0.100627\n",
      "3  rouge_2_p  0.148780  0.000000  0.836066  0.131942\n",
      "4  rouge_2_r  0.162801  0.000000  0.660550  0.131575\n",
      "5  rouge_2_f  0.150792  0.000000  0.647687  0.123553\n",
      "6  rouge_l_p  0.334994  0.103093  0.882353  0.117488\n",
      "7  rouge_l_r  0.375914  0.185185  0.768293  0.114767\n",
      "8  rouge_l_f  0.346508  0.132450  0.734884  0.100334\n"
     ]
    },
    {
     "name": "stderr",
     "output_type": "stream",
     "text": [
      "Loading codes from /home/hvn/Documents/dskt/vlsp-final-year/external/sentence_transformer/vn_sbert_deploy/bpe/bpe.codes ...\n",
      "Read 64000 codes from the codes file.\n",
      "WARNING:root:Create SBERT embedding complete\n",
      "WARNING:root:MMR-init: Model created\n"
     ]
    },
    {
     "name": "stdout",
     "output_type": "stream",
     "text": [
      "Test on training set\n",
      "Test on valid set\n"
     ]
    },
    {
     "name": "stderr",
     "output_type": "stream",
     "text": [
      "100it [00:27,  3.60it/s]\n",
      "WARNING:root:MMR-init: Start create a MMR Summarizer instance\n",
      "WARNING:root:Start create SBERT embedding\n"
     ]
    },
    {
     "name": "stdout",
     "output_type": "stream",
     "text": [
      "Using weight\n",
      " {'tfidf': 0.7, 'lexrank': 0.3, 'textrank': 5.551115123125783e-17}\n",
      "Sigma:  0.2\n",
      "Valid result\n",
      "         name      mean       min       max       std\n",
      "0  rouge_1_p  0.376271  0.113402  0.921569  0.115218\n",
      "1  rouge_1_r  0.410851  0.203704  0.746479  0.102044\n",
      "2  rouge_1_f  0.383941  0.145695  0.752000  0.087547\n",
      "3  rouge_2_p  0.161597  0.000000  0.836066  0.127802\n",
      "4  rouge_2_r  0.167037  0.000000  0.600000  0.112305\n",
      "5  rouge_2_f  0.159009  0.000000  0.641509  0.110115\n",
      "6  rouge_l_p  0.346891  0.103093  0.882353  0.114364\n",
      "7  rouge_l_r  0.377554  0.185185  0.704225  0.099048\n",
      "8  rouge_l_f  0.353358  0.132450  0.720000  0.088082\n"
     ]
    },
    {
     "name": "stderr",
     "output_type": "stream",
     "text": [
      "Loading codes from /home/hvn/Documents/dskt/vlsp-final-year/external/sentence_transformer/vn_sbert_deploy/bpe/bpe.codes ...\n",
      "Read 64000 codes from the codes file.\n",
      "WARNING:root:Create SBERT embedding complete\n",
      "WARNING:root:MMR-init: Model created\n"
     ]
    },
    {
     "name": "stdout",
     "output_type": "stream",
     "text": [
      "Test on training set\n",
      "Test on valid set\n"
     ]
    },
    {
     "name": "stderr",
     "output_type": "stream",
     "text": [
      "100it [00:27,  3.61it/s]\n",
      "WARNING:root:MMR-init: Start create a MMR Summarizer instance\n",
      "WARNING:root:Start create SBERT embedding\n"
     ]
    },
    {
     "name": "stdout",
     "output_type": "stream",
     "text": [
      "Using weight\n",
      " {'tfidf': 1.0, 'lexrank': 0.0, 'textrank': 0.0}\n",
      "Sigma:  0.2\n",
      "Valid result\n",
      "         name      mean       min       max       std\n",
      "0  rouge_1_p  0.375027  0.182390  0.921569  0.129047\n",
      "1  rouge_1_r  0.410196  0.200000  0.766355  0.116620\n",
      "2  rouge_1_f  0.382973  0.205128  0.762791  0.104485\n",
      "3  rouge_2_p  0.162709  0.018868  0.836066  0.148166\n",
      "4  rouge_2_r  0.165567  0.017857  0.650000  0.130504\n",
      "5  rouge_2_f  0.158843  0.018349  0.647687  0.130100\n",
      "6  rouge_l_p  0.347553  0.176101  0.882353  0.129100\n",
      "7  rouge_l_r  0.379110  0.171429  0.738318  0.115171\n",
      "8  rouge_l_f  0.354383  0.175824  0.734884  0.105837\n"
     ]
    },
    {
     "name": "stderr",
     "output_type": "stream",
     "text": [
      "Loading codes from /home/hvn/Documents/dskt/vlsp-final-year/external/sentence_transformer/vn_sbert_deploy/bpe/bpe.codes ...\n",
      "Read 64000 codes from the codes file.\n",
      "WARNING:root:Create SBERT embedding complete\n",
      "WARNING:root:MMR-init: Model created\n"
     ]
    },
    {
     "name": "stdout",
     "output_type": "stream",
     "text": [
      "Test on training set\n",
      "Test on valid set\n"
     ]
    },
    {
     "name": "stderr",
     "output_type": "stream",
     "text": [
      "100it [00:36,  2.75it/s]\n",
      "WARNING:root:MMR-init: Start create a MMR Summarizer instance\n",
      "WARNING:root:Start create SBERT embedding\n"
     ]
    },
    {
     "name": "stdout",
     "output_type": "stream",
     "text": [
      "Using weight\n",
      " {'tfidf': 0.0, 'lexrank': 0.0, 'textrank': 1.0}\n",
      "Sigma:  0.8\n",
      "Valid result\n",
      "         name      mean       min       max       std\n",
      "0  rouge_1_p  0.408754  0.179641  0.831461  0.140621\n",
      "1  rouge_1_r  0.606172  0.200000  0.986667  0.131734\n",
      "2  rouge_1_f  0.476748  0.256579  0.902439  0.123899\n",
      "3  rouge_2_p  0.231665  0.030395  0.762376  0.151936\n",
      "4  rouge_2_r  0.378679  0.041667  0.947368  0.172325\n",
      "5  rouge_2_f  0.278531  0.041841  0.786026  0.154852\n",
      "6  rouge_l_p  0.382434  0.157143  0.831461  0.145644\n",
      "7  rouge_l_r  0.567012  0.127273  0.986667  0.141418\n",
      "8  rouge_l_f  0.446280  0.172840  0.902439  0.133509\n"
     ]
    },
    {
     "name": "stderr",
     "output_type": "stream",
     "text": [
      "Loading codes from /home/hvn/Documents/dskt/vlsp-final-year/external/sentence_transformer/vn_sbert_deploy/bpe/bpe.codes ...\n",
      "Read 64000 codes from the codes file.\n",
      "WARNING:root:Create SBERT embedding complete\n",
      "WARNING:root:MMR-init: Model created\n"
     ]
    },
    {
     "name": "stdout",
     "output_type": "stream",
     "text": [
      "Test on training set\n",
      "Test on valid set\n"
     ]
    },
    {
     "name": "stderr",
     "output_type": "stream",
     "text": [
      "100it [00:36,  2.78it/s]\n",
      "WARNING:root:MMR-init: Start create a MMR Summarizer instance\n",
      "WARNING:root:Start create SBERT embedding\n"
     ]
    },
    {
     "name": "stdout",
     "output_type": "stream",
     "text": [
      "Using weight\n",
      " {'tfidf': 0.0, 'lexrank': 0.3, 'textrank': 0.7}\n",
      "Sigma:  0.8\n",
      "Valid result\n",
      "         name      mean       min       max       std\n",
      "0  rouge_1_p  0.408923  0.194118  0.983607  0.143235\n",
      "1  rouge_1_r  0.600385  0.200000  0.986667  0.126775\n",
      "2  rouge_1_f  0.474529  0.268456  0.902439  0.121447\n",
      "3  rouge_2_p  0.231173  0.030395  0.925373  0.157244\n",
      "4  rouge_2_r  0.371615  0.041667  0.947368  0.165801\n",
      "5  rouge_2_f  0.275722  0.041841  0.786026  0.154315\n",
      "6  rouge_l_p  0.382855  0.171569  0.983607  0.148156\n",
      "7  rouge_l_r  0.561460  0.127273  0.986667  0.135649\n",
      "8  rouge_l_f  0.444269  0.172840  0.902439  0.130750\n"
     ]
    },
    {
     "name": "stderr",
     "output_type": "stream",
     "text": [
      "Loading codes from /home/hvn/Documents/dskt/vlsp-final-year/external/sentence_transformer/vn_sbert_deploy/bpe/bpe.codes ...\n",
      "Read 64000 codes from the codes file.\n",
      "WARNING:root:Create SBERT embedding complete\n",
      "WARNING:root:MMR-init: Model created\n"
     ]
    },
    {
     "name": "stdout",
     "output_type": "stream",
     "text": [
      "Test on training set\n",
      "Test on valid set\n"
     ]
    },
    {
     "name": "stderr",
     "output_type": "stream",
     "text": [
      "100it [00:35,  2.79it/s]\n",
      "WARNING:root:MMR-init: Start create a MMR Summarizer instance\n",
      "WARNING:root:Start create SBERT embedding\n"
     ]
    },
    {
     "name": "stdout",
     "output_type": "stream",
     "text": [
      "Using weight\n",
      " {'tfidf': 0.0, 'lexrank': 0.7, 'textrank': 0.30000000000000004}\n",
      "Sigma:  0.8\n",
      "Valid result\n",
      "         name      mean       min       max       std\n",
      "0  rouge_1_p  0.414467  0.194118  0.983607  0.147768\n",
      "1  rouge_1_r  0.604879  0.200000  0.986667  0.132462\n",
      "2  rouge_1_f  0.480148  0.265487  0.902439  0.128221\n",
      "3  rouge_2_p  0.238206  0.030303  0.925373  0.164201\n",
      "4  rouge_2_r  0.378987  0.041667  0.947368  0.178154\n",
      "5  rouge_2_f  0.283342  0.041754  0.786026  0.164037\n",
      "6  rouge_l_p  0.389281  0.180412  0.983607  0.153480\n",
      "7  rouge_l_r  0.567504  0.127273  0.986667  0.143291\n",
      "8  rouge_l_f  0.450999  0.172840  0.902439  0.138518\n"
     ]
    },
    {
     "name": "stderr",
     "output_type": "stream",
     "text": [
      "Loading codes from /home/hvn/Documents/dskt/vlsp-final-year/external/sentence_transformer/vn_sbert_deploy/bpe/bpe.codes ...\n",
      "Read 64000 codes from the codes file.\n",
      "WARNING:root:Create SBERT embedding complete\n",
      "WARNING:root:MMR-init: Model created\n"
     ]
    },
    {
     "name": "stdout",
     "output_type": "stream",
     "text": [
      "Test on training set\n",
      "Test on valid set\n"
     ]
    },
    {
     "name": "stderr",
     "output_type": "stream",
     "text": [
      "100it [00:34,  2.90it/s]\n",
      "WARNING:root:MMR-init: Start create a MMR Summarizer instance\n",
      "WARNING:root:Start create SBERT embedding\n"
     ]
    },
    {
     "name": "stdout",
     "output_type": "stream",
     "text": [
      "Using weight\n",
      " {'tfidf': 0.0, 'lexrank': 1.0, 'textrank': 0.0}\n",
      "Sigma:  0.8\n",
      "Valid result\n",
      "         name      mean       min       max       std\n",
      "0  rouge_1_p  0.404597  0.182857  0.704545  0.125171\n",
      "1  rouge_1_r  0.584118  0.200000  0.851064  0.127900\n",
      "2  rouge_1_f  0.466859  0.237918  0.760736  0.110760\n",
      "3  rouge_2_p  0.223772  0.032129  0.532787  0.131545\n",
      "4  rouge_2_r  0.352119  0.041667  0.736842  0.158416\n",
      "5  rouge_2_f  0.265186  0.043597  0.611354  0.136126\n",
      "6  rouge_l_p  0.378523  0.160000  0.704545  0.128793\n",
      "7  rouge_l_r  0.546176  0.127273  0.840426  0.135036\n",
      "8  rouge_l_f  0.436879  0.172840  0.760736  0.118645\n"
     ]
    },
    {
     "name": "stderr",
     "output_type": "stream",
     "text": [
      "Loading codes from /home/hvn/Documents/dskt/vlsp-final-year/external/sentence_transformer/vn_sbert_deploy/bpe/bpe.codes ...\n",
      "Read 64000 codes from the codes file.\n",
      "WARNING:root:Create SBERT embedding complete\n",
      "WARNING:root:MMR-init: Model created\n"
     ]
    },
    {
     "name": "stdout",
     "output_type": "stream",
     "text": [
      "Test on training set\n",
      "Test on valid set\n"
     ]
    },
    {
     "name": "stderr",
     "output_type": "stream",
     "text": [
      "100it [00:35,  2.85it/s]\n",
      "WARNING:root:MMR-init: Start create a MMR Summarizer instance\n",
      "WARNING:root:Start create SBERT embedding\n"
     ]
    },
    {
     "name": "stdout",
     "output_type": "stream",
     "text": [
      "Using weight\n",
      " {'tfidf': 0.3, 'lexrank': 0.0, 'textrank': 0.7}\n",
      "Sigma:  0.8\n",
      "Valid result\n",
      "         name      mean       min       max       std\n",
      "0  rouge_1_p  0.406151  0.127660  0.815789  0.141922\n",
      "1  rouge_1_r  0.573161  0.200000  0.880000  0.129706\n",
      "2  rouge_1_f  0.463907  0.184615  0.819876  0.122901\n",
      "3  rouge_2_p  0.225884  0.004785  0.762376  0.151722\n",
      "4  rouge_2_r  0.346371  0.017544  0.852632  0.170236\n",
      "5  rouge_2_f  0.265008  0.007519  0.773869  0.152993\n",
      "6  rouge_l_p  0.381273  0.113475  0.815789  0.145270\n",
      "7  rouge_l_r  0.537153  0.127273  0.880000  0.136847\n",
      "8  rouge_l_f  0.435411  0.164103  0.819876  0.130270\n"
     ]
    },
    {
     "name": "stderr",
     "output_type": "stream",
     "text": [
      "Loading codes from /home/hvn/Documents/dskt/vlsp-final-year/external/sentence_transformer/vn_sbert_deploy/bpe/bpe.codes ...\n",
      "Read 64000 codes from the codes file.\n",
      "WARNING:root:Create SBERT embedding complete\n",
      "WARNING:root:MMR-init: Model created\n"
     ]
    },
    {
     "name": "stdout",
     "output_type": "stream",
     "text": [
      "Test on training set\n",
      "Test on valid set\n"
     ]
    },
    {
     "name": "stderr",
     "output_type": "stream",
     "text": [
      "100it [00:34,  2.92it/s]\n",
      "WARNING:root:MMR-init: Start create a MMR Summarizer instance\n",
      "WARNING:root:Start create SBERT embedding\n"
     ]
    },
    {
     "name": "stdout",
     "output_type": "stream",
     "text": [
      "Using weight\n",
      " {'tfidf': 0.3, 'lexrank': 0.3, 'textrank': 0.39999999999999997}\n",
      "Sigma:  0.8\n",
      "Valid result\n",
      "         name      mean       min       max       std\n",
      "0  rouge_1_p  0.413600  0.159091  0.982759  0.146972\n",
      "1  rouge_1_r  0.570786  0.200000  0.986667  0.136311\n",
      "2  rouge_1_f  0.467337  0.239316  0.902439  0.126068\n",
      "3  rouge_2_p  0.227641  0.021739  0.974026  0.160302\n",
      "4  rouge_2_r  0.341715  0.040984  0.947368  0.178557\n",
      "5  rouge_2_f  0.264031  0.030864  0.857143  0.158025\n",
      "6  rouge_l_p  0.386691  0.136364  0.965517  0.150633\n",
      "7  rouge_l_r  0.532824  0.127273  0.986667  0.144042\n",
      "8  rouge_l_f  0.436859  0.172840  0.902439  0.133936\n"
     ]
    },
    {
     "name": "stderr",
     "output_type": "stream",
     "text": [
      "Loading codes from /home/hvn/Documents/dskt/vlsp-final-year/external/sentence_transformer/vn_sbert_deploy/bpe/bpe.codes ...\n",
      "Read 64000 codes from the codes file.\n",
      "WARNING:root:Create SBERT embedding complete\n",
      "WARNING:root:MMR-init: Model created\n"
     ]
    },
    {
     "name": "stdout",
     "output_type": "stream",
     "text": [
      "Test on training set\n",
      "Test on valid set\n"
     ]
    },
    {
     "name": "stderr",
     "output_type": "stream",
     "text": [
      "100it [00:32,  3.11it/s]\n",
      "WARNING:root:MMR-init: Start create a MMR Summarizer instance\n",
      "WARNING:root:Start create SBERT embedding\n"
     ]
    },
    {
     "name": "stdout",
     "output_type": "stream",
     "text": [
      "Using weight\n",
      " {'tfidf': 0.3, 'lexrank': 0.7, 'textrank': 0.0}\n",
      "Sigma:  0.8\n",
      "Valid result\n",
      "         name      mean       min       max       std\n",
      "0  rouge_1_p  0.413332  0.183007  0.733333  0.132112\n",
      "1  rouge_1_r  0.535322  0.200000  0.826667  0.135468\n",
      "2  rouge_1_f  0.453655  0.264151  0.760736  0.112772\n",
      "3  rouge_2_p  0.217515  0.028986  0.592593  0.140253\n",
      "4  rouge_2_r  0.303472  0.041667  0.736842  0.158335\n",
      "5  rouge_2_f  0.243783  0.036474  0.611354  0.136567\n",
      "6  rouge_l_p  0.384923  0.156863  0.733333  0.134933\n",
      "7  rouge_l_r  0.498469  0.127273  0.826667  0.139388\n",
      "8  rouge_l_f  0.422531  0.172840  0.760736  0.118777\n"
     ]
    },
    {
     "name": "stderr",
     "output_type": "stream",
     "text": [
      "Loading codes from /home/hvn/Documents/dskt/vlsp-final-year/external/sentence_transformer/vn_sbert_deploy/bpe/bpe.codes ...\n",
      "Read 64000 codes from the codes file.\n",
      "WARNING:root:Create SBERT embedding complete\n",
      "WARNING:root:MMR-init: Model created\n"
     ]
    },
    {
     "name": "stdout",
     "output_type": "stream",
     "text": [
      "Test on training set\n",
      "Test on valid set\n"
     ]
    },
    {
     "name": "stderr",
     "output_type": "stream",
     "text": [
      "100it [00:29,  3.36it/s]\n",
      "WARNING:root:MMR-init: Start create a MMR Summarizer instance\n",
      "WARNING:root:Start create SBERT embedding\n"
     ]
    },
    {
     "name": "stdout",
     "output_type": "stream",
     "text": [
      "Using weight\n",
      " {'tfidf': 0.7, 'lexrank': 0.0, 'textrank': 0.30000000000000004}\n",
      "Sigma:  0.8\n",
      "Valid result\n",
      "         name      mean       min       max       std\n",
      "0  rouge_1_p  0.404604  0.211180  0.982759  0.137107\n",
      "1  rouge_1_r  0.477900  0.200000  0.796117  0.128840\n",
      "2  rouge_1_f  0.426716  0.246377  0.863636  0.110768\n",
      "3  rouge_2_p  0.196608  0.000000  0.974026  0.155930\n",
      "4  rouge_2_r  0.246991  0.000000  0.765306  0.153784\n",
      "5  rouge_2_f  0.210745  0.000000  0.857143  0.142254\n",
      "6  rouge_l_p  0.374305  0.186335  0.965517  0.137438\n",
      "7  rouge_l_r  0.443170  0.127273  0.786408  0.131763\n",
      "8  rouge_l_f  0.395308  0.172840  0.848485  0.115070\n"
     ]
    },
    {
     "name": "stderr",
     "output_type": "stream",
     "text": [
      "Loading codes from /home/hvn/Documents/dskt/vlsp-final-year/external/sentence_transformer/vn_sbert_deploy/bpe/bpe.codes ...\n",
      "Read 64000 codes from the codes file.\n",
      "WARNING:root:Create SBERT embedding complete\n",
      "WARNING:root:MMR-init: Model created\n"
     ]
    },
    {
     "name": "stdout",
     "output_type": "stream",
     "text": [
      "Test on training set\n",
      "Test on valid set\n"
     ]
    },
    {
     "name": "stderr",
     "output_type": "stream",
     "text": [
      "100it [00:28,  3.51it/s]\n",
      "WARNING:root:MMR-init: Start create a MMR Summarizer instance\n",
      "WARNING:root:Start create SBERT embedding\n"
     ]
    },
    {
     "name": "stdout",
     "output_type": "stream",
     "text": [
      "Using weight\n",
      " {'tfidf': 0.7, 'lexrank': 0.3, 'textrank': 5.551115123125783e-17}\n",
      "Sigma:  0.8\n",
      "Valid result\n",
      "         name      mean       min       max       std\n",
      "0  rouge_1_p  0.409881  0.193548  0.759259  0.125942\n",
      "1  rouge_1_r  0.474686  0.200000  0.953846  0.136639\n",
      "2  rouge_1_f  0.427120  0.222222  0.727273  0.103469\n",
      "3  rouge_2_p  0.201346  0.000000  0.593023  0.138018\n",
      "4  rouge_2_r  0.248836  0.000000  0.817073  0.154894\n",
      "5  rouge_2_f  0.212971  0.000000  0.605263  0.127464\n",
      "6  rouge_l_p  0.380082  0.154839  0.759259  0.128181\n",
      "7  rouge_l_r  0.440966  0.127273  0.923077  0.138625\n",
      "8  rouge_l_f  0.396357  0.172840  0.727273  0.108117\n"
     ]
    },
    {
     "name": "stderr",
     "output_type": "stream",
     "text": [
      "Loading codes from /home/hvn/Documents/dskt/vlsp-final-year/external/sentence_transformer/vn_sbert_deploy/bpe/bpe.codes ...\n",
      "Read 64000 codes from the codes file.\n",
      "WARNING:root:Create SBERT embedding complete\n",
      "WARNING:root:MMR-init: Model created\n"
     ]
    },
    {
     "name": "stdout",
     "output_type": "stream",
     "text": [
      "Test on training set\n",
      "Test on valid set\n"
     ]
    },
    {
     "name": "stderr",
     "output_type": "stream",
     "text": [
      "100it [00:29,  3.44it/s]\n",
      "WARNING:root:MMR-init: Start create a MMR Summarizer instance\n",
      "WARNING:root:Start create SBERT embedding\n"
     ]
    },
    {
     "name": "stdout",
     "output_type": "stream",
     "text": [
      "Using weight\n",
      " {'tfidf': 1.0, 'lexrank': 0.0, 'textrank': 0.0}\n",
      "Sigma:  0.8\n",
      "Valid result\n",
      "         name      mean       min       max       std\n",
      "0  rouge_1_p  0.405472  0.184524  0.759259  0.124749\n",
      "1  rouge_1_r  0.463044  0.200000  0.938462  0.135925\n",
      "2  rouge_1_f  0.420579  0.218868  0.727273  0.104690\n",
      "3  rouge_2_p  0.195760  0.000000  0.592593  0.140206\n",
      "4  rouge_2_r  0.234538  0.000000  0.817073  0.158712\n",
      "5  rouge_2_f  0.204687  0.000000  0.605263  0.132749\n",
      "6  rouge_l_p  0.377826  0.160714  0.759259  0.126360\n",
      "7  rouge_l_r  0.431944  0.127273  0.907692  0.136931\n",
      "8  rouge_l_f  0.392182  0.172840  0.727273  0.108957\n"
     ]
    },
    {
     "name": "stderr",
     "output_type": "stream",
     "text": [
      "Loading codes from /home/hvn/Documents/dskt/vlsp-final-year/external/sentence_transformer/vn_sbert_deploy/bpe/bpe.codes ...\n",
      "Read 64000 codes from the codes file.\n",
      "WARNING:root:Create SBERT embedding complete\n",
      "WARNING:root:MMR-init: Model created\n"
     ]
    },
    {
     "name": "stdout",
     "output_type": "stream",
     "text": [
      "Test on training set\n",
      "Test on valid set\n"
     ]
    },
    {
     "name": "stderr",
     "output_type": "stream",
     "text": [
      "100it [00:37,  2.69it/s]\n",
      "WARNING:root:MMR-init: Start create a MMR Summarizer instance\n",
      "WARNING:root:Start create SBERT embedding\n"
     ]
    },
    {
     "name": "stdout",
     "output_type": "stream",
     "text": [
      "Using weight\n",
      " {'tfidf': 0.0, 'lexrank': 0.0, 'textrank': 1.0}\n",
      "Sigma:  1.0\n",
      "Valid result\n",
      "         name      mean       min       max       std\n",
      "0  rouge_1_p  0.407950  0.172840  0.831461  0.139227\n",
      "1  rouge_1_r  0.592745  0.200000  0.986667  0.131237\n",
      "2  rouge_1_f  0.471373  0.253333  0.902439  0.123281\n",
      "3  rouge_2_p  0.227270  0.030395  0.762376  0.147871\n",
      "4  rouge_2_r  0.365647  0.041667  0.947368  0.165429\n",
      "5  rouge_2_f  0.271752  0.040462  0.786026  0.151137\n",
      "6  rouge_l_p  0.381823  0.156379  0.831461  0.144641\n",
      "7  rouge_l_r  0.554981  0.127273  0.986667  0.140957\n",
      "8  rouge_l_f  0.441571  0.172840  0.902439  0.133130\n"
     ]
    },
    {
     "name": "stderr",
     "output_type": "stream",
     "text": [
      "Loading codes from /home/hvn/Documents/dskt/vlsp-final-year/external/sentence_transformer/vn_sbert_deploy/bpe/bpe.codes ...\n",
      "Read 64000 codes from the codes file.\n",
      "WARNING:root:Create SBERT embedding complete\n",
      "WARNING:root:MMR-init: Model created\n"
     ]
    },
    {
     "name": "stdout",
     "output_type": "stream",
     "text": [
      "Test on training set\n",
      "Test on valid set\n"
     ]
    },
    {
     "name": "stderr",
     "output_type": "stream",
     "text": [
      "100it [00:37,  2.65it/s]\n",
      "WARNING:root:MMR-init: Start create a MMR Summarizer instance\n",
      "WARNING:root:Start create SBERT embedding\n"
     ]
    },
    {
     "name": "stdout",
     "output_type": "stream",
     "text": [
      "Using weight\n",
      " {'tfidf': 0.0, 'lexrank': 0.3, 'textrank': 0.7}\n",
      "Sigma:  1.0\n",
      "Valid result\n",
      "         name      mean       min       max       std\n",
      "0  rouge_1_p  0.409600  0.172840  0.983607  0.145717\n",
      "1  rouge_1_r  0.592797  0.200000  0.986667  0.126337\n",
      "2  rouge_1_f  0.472312  0.254545  0.902439  0.123416\n",
      "3  rouge_2_p  0.229702  0.030395  0.925373  0.158066\n",
      "4  rouge_2_r  0.364608  0.041667  0.947368  0.163965\n",
      "5  rouge_2_f  0.272582  0.040462  0.786026  0.154474\n",
      "6  rouge_l_p  0.383940  0.156379  0.983607  0.150829\n",
      "7  rouge_l_r  0.554908  0.127273  0.986667  0.134850\n",
      "8  rouge_l_f  0.442616  0.172840  0.902439  0.132193\n"
     ]
    },
    {
     "name": "stderr",
     "output_type": "stream",
     "text": [
      "Loading codes from /home/hvn/Documents/dskt/vlsp-final-year/external/sentence_transformer/vn_sbert_deploy/bpe/bpe.codes ...\n",
      "Read 64000 codes from the codes file.\n",
      "WARNING:root:Create SBERT embedding complete\n",
      "WARNING:root:MMR-init: Model created\n"
     ]
    },
    {
     "name": "stdout",
     "output_type": "stream",
     "text": [
      "Test on training set\n",
      "Test on valid set\n"
     ]
    },
    {
     "name": "stderr",
     "output_type": "stream",
     "text": [
      "100it [00:38,  2.63it/s]\n",
      "WARNING:root:MMR-init: Start create a MMR Summarizer instance\n",
      "WARNING:root:Start create SBERT embedding\n"
     ]
    },
    {
     "name": "stdout",
     "output_type": "stream",
     "text": [
      "Using weight\n",
      " {'tfidf': 0.0, 'lexrank': 0.7, 'textrank': 0.30000000000000004}\n",
      "Sigma:  1.0\n",
      "Valid result\n",
      "         name      mean       min       max       std\n",
      "0  rouge_1_p  0.417163  0.194118  0.983607  0.147536\n",
      "1  rouge_1_r  0.601505  0.200000  0.986667  0.131188\n",
      "2  rouge_1_f  0.481019  0.262948  0.902439  0.128010\n",
      "3  rouge_2_p  0.239542  0.027778  0.925373  0.165105\n",
      "4  rouge_2_r  0.376731  0.041667  0.947368  0.173621\n",
      "5  rouge_2_f  0.283676  0.035503  0.786026  0.163520\n",
      "6  rouge_l_p  0.392053  0.180412  0.983607  0.153928\n",
      "7  rouge_l_r  0.564244  0.127273  0.986667  0.141076\n",
      "8  rouge_l_f  0.451882  0.172840  0.902439  0.138119\n"
     ]
    },
    {
     "name": "stderr",
     "output_type": "stream",
     "text": [
      "Loading codes from /home/hvn/Documents/dskt/vlsp-final-year/external/sentence_transformer/vn_sbert_deploy/bpe/bpe.codes ...\n",
      "Read 64000 codes from the codes file.\n",
      "WARNING:root:Create SBERT embedding complete\n",
      "WARNING:root:MMR-init: Model created\n"
     ]
    },
    {
     "name": "stdout",
     "output_type": "stream",
     "text": [
      "Test on training set\n",
      "Test on valid set\n"
     ]
    },
    {
     "name": "stderr",
     "output_type": "stream",
     "text": [
      "100it [00:36,  2.73it/s]\n",
      "WARNING:root:MMR-init: Start create a MMR Summarizer instance\n",
      "WARNING:root:Start create SBERT embedding\n"
     ]
    },
    {
     "name": "stdout",
     "output_type": "stream",
     "text": [
      "Using weight\n",
      " {'tfidf': 0.0, 'lexrank': 1.0, 'textrank': 0.0}\n",
      "Sigma:  1.0\n",
      "Valid result\n",
      "         name      mean       min       max       std\n",
      "0  rouge_1_p  0.408871  0.173913  0.794118  0.129858\n",
      "1  rouge_1_r  0.579827  0.200000  0.867470  0.130055\n",
      "2  rouge_1_f  0.467812  0.230216  0.800000  0.113338\n",
      "3  rouge_2_p  0.226335  0.023585  0.666667  0.140244\n",
      "4  rouge_2_r  0.349345  0.040984  0.770642  0.159135\n",
      "5  rouge_2_f  0.265608  0.029940  0.705882  0.141028\n",
      "6  rouge_l_p  0.381912  0.157609  0.794118  0.134016\n",
      "7  rouge_l_r  0.541440  0.127273  0.867470  0.137796\n",
      "8  rouge_l_f  0.437089  0.172840  0.800000  0.121811\n"
     ]
    },
    {
     "name": "stderr",
     "output_type": "stream",
     "text": [
      "Loading codes from /home/hvn/Documents/dskt/vlsp-final-year/external/sentence_transformer/vn_sbert_deploy/bpe/bpe.codes ...\n",
      "Read 64000 codes from the codes file.\n",
      "WARNING:root:Create SBERT embedding complete\n",
      "WARNING:root:MMR-init: Model created\n"
     ]
    },
    {
     "name": "stdout",
     "output_type": "stream",
     "text": [
      "Test on training set\n",
      "Test on valid set\n"
     ]
    },
    {
     "name": "stderr",
     "output_type": "stream",
     "text": [
      "100it [00:36,  2.75it/s]\n",
      "WARNING:root:MMR-init: Start create a MMR Summarizer instance\n",
      "WARNING:root:Start create SBERT embedding\n"
     ]
    },
    {
     "name": "stdout",
     "output_type": "stream",
     "text": [
      "Using weight\n",
      " {'tfidf': 0.3, 'lexrank': 0.0, 'textrank': 0.7}\n",
      "Sigma:  1.0\n",
      "Valid result\n",
      "         name      mean       min       max       std\n",
      "0  rouge_1_p  0.410391  0.127660  0.815789  0.141725\n",
      "1  rouge_1_r  0.568467  0.200000  0.893204  0.131307\n",
      "2  rouge_1_f  0.464663  0.184615  0.819876  0.122490\n",
      "3  rouge_2_p  0.227434  0.004785  0.762376  0.152628\n",
      "4  rouge_2_r  0.345397  0.017544  0.852632  0.168708\n",
      "5  rouge_2_f  0.265224  0.007519  0.773869  0.152954\n",
      "6  rouge_l_p  0.386413  0.113475  0.815789  0.145505\n",
      "7  rouge_l_r  0.534684  0.127273  0.893204  0.138286\n",
      "8  rouge_l_f  0.437477  0.164103  0.819876  0.129796\n"
     ]
    },
    {
     "name": "stderr",
     "output_type": "stream",
     "text": [
      "Loading codes from /home/hvn/Documents/dskt/vlsp-final-year/external/sentence_transformer/vn_sbert_deploy/bpe/bpe.codes ...\n",
      "Read 64000 codes from the codes file.\n",
      "WARNING:root:Create SBERT embedding complete\n",
      "WARNING:root:MMR-init: Model created\n"
     ]
    },
    {
     "name": "stdout",
     "output_type": "stream",
     "text": [
      "Test on training set\n",
      "Test on valid set\n"
     ]
    },
    {
     "name": "stderr",
     "output_type": "stream",
     "text": [
      "100it [00:34,  2.86it/s]\n",
      "WARNING:root:MMR-init: Start create a MMR Summarizer instance\n",
      "WARNING:root:Start create SBERT embedding\n"
     ]
    },
    {
     "name": "stdout",
     "output_type": "stream",
     "text": [
      "Using weight\n",
      " {'tfidf': 0.3, 'lexrank': 0.3, 'textrank': 0.39999999999999997}\n",
      "Sigma:  1.0\n",
      "Valid result\n",
      "         name      mean       min       max       std\n",
      "0  rouge_1_p  0.413220  0.169014  0.982759  0.146555\n",
      "1  rouge_1_r  0.562270  0.200000  0.986667  0.136828\n",
      "2  rouge_1_f  0.463531  0.244898  0.902439  0.124658\n",
      "3  rouge_2_p  0.225613  0.020930  0.974026  0.160712\n",
      "4  rouge_2_r  0.334711  0.041667  0.947368  0.173903\n",
      "5  rouge_2_f  0.259787  0.030100  0.857143  0.156267\n",
      "6  rouge_l_p  0.387703  0.154930  0.965517  0.150762\n",
      "7  rouge_l_r  0.526622  0.127273  0.986667  0.143452\n",
      "8  rouge_l_f  0.434765  0.172840  0.902439  0.132559\n"
     ]
    },
    {
     "name": "stderr",
     "output_type": "stream",
     "text": [
      "Loading codes from /home/hvn/Documents/dskt/vlsp-final-year/external/sentence_transformer/vn_sbert_deploy/bpe/bpe.codes ...\n",
      "Read 64000 codes from the codes file.\n",
      "WARNING:root:Create SBERT embedding complete\n",
      "WARNING:root:MMR-init: Model created\n"
     ]
    },
    {
     "name": "stdout",
     "output_type": "stream",
     "text": [
      "Test on training set\n",
      "Test on valid set\n"
     ]
    },
    {
     "name": "stderr",
     "output_type": "stream",
     "text": [
      "100it [00:32,  3.07it/s]\n",
      "WARNING:root:MMR-init: Start create a MMR Summarizer instance\n",
      "WARNING:root:Start create SBERT embedding\n"
     ]
    },
    {
     "name": "stdout",
     "output_type": "stream",
     "text": [
      "Using weight\n",
      " {'tfidf': 0.3, 'lexrank': 0.7, 'textrank': 0.0}\n",
      "Sigma:  1.0\n",
      "Valid result\n",
      "         name      mean       min       max       std\n",
      "0  rouge_1_p  0.410717  0.183007  0.781609  0.129806\n",
      "1  rouge_1_r  0.525315  0.200000  0.873786  0.140120\n",
      "2  rouge_1_f  0.447608  0.264151  0.800000  0.111660\n",
      "3  rouge_2_p  0.212714  0.022152  0.680672  0.136525\n",
      "4  rouge_2_r  0.295966  0.041667  0.748031  0.162142\n",
      "5  rouge_2_f  0.237798  0.028926  0.710526  0.135548\n",
      "6  rouge_l_p  0.380083  0.156863  0.781609  0.130379\n",
      "7  rouge_l_r  0.487057  0.127273  0.873786  0.146128\n",
      "8  rouge_l_f  0.414722  0.172840  0.800000  0.118074\n"
     ]
    },
    {
     "name": "stderr",
     "output_type": "stream",
     "text": [
      "Loading codes from /home/hvn/Documents/dskt/vlsp-final-year/external/sentence_transformer/vn_sbert_deploy/bpe/bpe.codes ...\n",
      "Read 64000 codes from the codes file.\n",
      "WARNING:root:Create SBERT embedding complete\n",
      "WARNING:root:MMR-init: Model created\n"
     ]
    },
    {
     "name": "stdout",
     "output_type": "stream",
     "text": [
      "Test on training set\n",
      "Test on valid set\n"
     ]
    },
    {
     "name": "stderr",
     "output_type": "stream",
     "text": [
      "100it [00:29,  3.35it/s]\n",
      "WARNING:root:MMR-init: Start create a MMR Summarizer instance\n",
      "WARNING:root:Start create SBERT embedding\n"
     ]
    },
    {
     "name": "stdout",
     "output_type": "stream",
     "text": [
      "Using weight\n",
      " {'tfidf': 0.7, 'lexrank': 0.0, 'textrank': 0.30000000000000004}\n",
      "Sigma:  1.0\n",
      "Valid result\n",
      "         name      mean       min       max       std\n",
      "0  rouge_1_p  0.404788  0.186747  0.982759  0.141144\n",
      "1  rouge_1_r  0.467188  0.178947  0.796117  0.137162\n",
      "2  rouge_1_f  0.420243  0.187845  0.863636  0.114458\n",
      "3  rouge_2_p  0.193706  0.000000  0.974026  0.156034\n",
      "4  rouge_2_r  0.239904  0.000000  0.765306  0.158852\n",
      "5  rouge_2_f  0.204924  0.000000  0.857143  0.143248\n",
      "6  rouge_l_p  0.373874  0.156627  0.965517  0.141506\n",
      "7  rouge_l_r  0.432537  0.127273  0.786408  0.140025\n",
      "8  rouge_l_f  0.388680  0.172840  0.848485  0.119231\n"
     ]
    },
    {
     "name": "stderr",
     "output_type": "stream",
     "text": [
      "Loading codes from /home/hvn/Documents/dskt/vlsp-final-year/external/sentence_transformer/vn_sbert_deploy/bpe/bpe.codes ...\n",
      "Read 64000 codes from the codes file.\n",
      "WARNING:root:Create SBERT embedding complete\n",
      "WARNING:root:MMR-init: Model created\n"
     ]
    },
    {
     "name": "stdout",
     "output_type": "stream",
     "text": [
      "Test on training set\n",
      "Test on valid set\n"
     ]
    },
    {
     "name": "stderr",
     "output_type": "stream",
     "text": [
      "100it [00:29,  3.41it/s]\n",
      "WARNING:root:MMR-init: Start create a MMR Summarizer instance\n",
      "WARNING:root:Start create SBERT embedding\n"
     ]
    },
    {
     "name": "stdout",
     "output_type": "stream",
     "text": [
      "Using weight\n",
      " {'tfidf': 0.7, 'lexrank': 0.3, 'textrank': 5.551115123125783e-17}\n",
      "Sigma:  1.0\n",
      "Valid result\n",
      "         name      mean       min       max       std\n",
      "0  rouge_1_p  0.414543  0.214876  0.759259  0.134937\n",
      "1  rouge_1_r  0.464090  0.196581  0.830769  0.137893\n",
      "2  rouge_1_f  0.423038  0.229630  0.694915  0.106567\n",
      "3  rouge_2_p  0.200594  0.000000  0.593023  0.141048\n",
      "4  rouge_2_r  0.241564  0.000000  0.695122  0.152085\n",
      "5  rouge_2_f  0.208225  0.000000  0.520270  0.127008\n",
      "6  rouge_l_p  0.383029  0.183099  0.759259  0.133392\n",
      "7  rouge_l_r  0.430300  0.127273  0.815385  0.139881\n",
      "8  rouge_l_f  0.391494  0.172840  0.669492  0.109625\n"
     ]
    },
    {
     "name": "stderr",
     "output_type": "stream",
     "text": [
      "Loading codes from /home/hvn/Documents/dskt/vlsp-final-year/external/sentence_transformer/vn_sbert_deploy/bpe/bpe.codes ...\n",
      "Read 64000 codes from the codes file.\n",
      "WARNING:root:Create SBERT embedding complete\n",
      "WARNING:root:MMR-init: Model created\n"
     ]
    },
    {
     "name": "stdout",
     "output_type": "stream",
     "text": [
      "Test on training set\n",
      "Test on valid set\n"
     ]
    },
    {
     "name": "stderr",
     "output_type": "stream",
     "text": [
      "100it [00:28,  3.51it/s]"
     ]
    },
    {
     "name": "stdout",
     "output_type": "stream",
     "text": [
      "Using weight\n",
      " {'tfidf': 1.0, 'lexrank': 0.0, 'textrank': 0.0}\n",
      "Sigma:  1.0\n",
      "Valid result\n",
      "         name      mean       min       max       std\n",
      "0  rouge_1_p  0.412261  0.200000  0.759259  0.134925\n",
      "1  rouge_1_r  0.453709  0.196581  0.938462  0.141551\n",
      "2  rouge_1_f  0.417645  0.235714  0.694915  0.108121\n",
      "3  rouge_2_p  0.197784  0.000000  0.592105  0.146677\n",
      "4  rouge_2_r  0.230236  0.000000  0.817073  0.160724\n",
      "5  rouge_2_f  0.202226  0.000000  0.520270  0.134149\n",
      "6  rouge_l_p  0.382546  0.175758  0.759259  0.133485\n",
      "7  rouge_l_r  0.422054  0.127273  0.907692  0.141824\n",
      "8  rouge_l_f  0.388056  0.172840  0.669492  0.110879\n"
     ]
    },
    {
     "name": "stderr",
     "output_type": "stream",
     "text": [
      "\n"
     ]
    }
   ],
   "source": [
    "for sigma in [0.0, 0.2, 0.8, 1.0]:\n",
    "    for i in [0.0, 0.3, 0.7, 1.0]:\n",
    "        for j in [0.0, 0.3, 0.7, 1.0]:\n",
    "            if i + j > 1.0:\n",
    "                continue \n",
    "            k = 1.0 - i - j \n",
    "\n",
    "            weight = {\n",
    "                \"tfidf\": i,\n",
    "                \"lexrank\": j,\n",
    "                \"textrank\": k\n",
    "            }\n",
    "\n",
    "            get_rouge_score(weight, sigma)"
   ]
  },
  {
   "cell_type": "code",
   "execution_count": 19,
   "id": "b572a130",
   "metadata": {},
   "outputs": [
    {
     "name": "stderr",
     "output_type": "stream",
     "text": [
      "WARNING:root:MMR-init: Start create a MMR Summarizer instance\n",
      "WARNING:root:Start create SBERT embedding\n",
      "Loading codes from /home/hvn/Documents/dskt/vlsp-final-year/external/sentence_transformer/vn_sbert_deploy/bpe/bpe.codes ...\n",
      "Read 64000 codes from the codes file.\n",
      "WARNING:root:Create SBERT embedding complete\n",
      "WARNING:root:MMR-init: Model created\n"
     ]
    },
    {
     "name": "stdout",
     "output_type": "stream",
     "text": [
      "Test on training set\n",
      "Test on valid set\n"
     ]
    },
    {
     "name": "stderr",
     "output_type": "stream",
     "text": [
      "100it [00:37,  2.69it/s]\n"
     ]
    },
    {
     "name": "stdout",
     "output_type": "stream",
     "text": [
      "Predict on test set\n"
     ]
    },
    {
     "name": "stderr",
     "output_type": "stream",
     "text": [
      "300it [01:19,  3.78it/s]\n"
     ]
    },
    {
     "name": "stdout",
     "output_type": "stream",
     "text": [
      "Start write to txt\n",
      "Done write to txt\n",
      "Using weight\n",
      " {'tfidf': 0.0, 'lexrank': 0.75, 'textrank': 0.25}\n",
      "Sigma:  0.7\n",
      "Valid result\n",
      "         name      mean       min       max       std\n",
      "0  rouge_1_p  0.412075  0.187500  0.983607  0.147609\n",
      "1  rouge_1_r  0.611455  0.200000  0.986667  0.134345\n",
      "2  rouge_1_f  0.480747  0.244186  0.865497  0.129110\n",
      "3  rouge_2_p  0.237838  0.020349  0.925373  0.163577\n",
      "4  rouge_2_r  0.383992  0.041667  0.947368  0.176823\n",
      "5  rouge_2_f  0.284496  0.028398  0.779874  0.163313\n",
      "6  rouge_l_p  0.388049  0.170404  0.983607  0.153828\n",
      "7  rouge_l_r  0.574716  0.127273  0.986667  0.144526\n",
      "8  rouge_l_f  0.452599  0.172840  0.865497  0.139614\n"
     ]
    }
   ],
   "source": [
    "weight = {\n",
    "    \"tfidf\": 0.0,\n",
    "    \"lexrank\": 0.85,\n",
    "    \"textrank\": 0.15,\n",
    "}\n",
    "\n",
    "get_rouge_score_and_saved(weight, 0.7, \"_2\")"
   ]
  },
  {
   "cell_type": "code",
   "execution_count": null,
   "id": "34a2357e",
   "metadata": {},
   "outputs": [],
   "source": []
  }
 ],
 "metadata": {
  "kernelspec": {
   "display_name": "Python 3 (ipykernel)",
   "language": "python",
   "name": "python3"
  },
  "language_info": {
   "codemirror_mode": {
    "name": "ipython",
    "version": 3
   },
   "file_extension": ".py",
   "mimetype": "text/x-python",
   "name": "python",
   "nbconvert_exporter": "python",
   "pygments_lexer": "ipython3",
   "version": "3.8.10"
  }
 },
 "nbformat": 4,
 "nbformat_minor": 5
}
